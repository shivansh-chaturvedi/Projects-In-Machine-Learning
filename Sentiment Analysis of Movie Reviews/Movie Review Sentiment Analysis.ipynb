{
  "nbformat": 4,
  "nbformat_minor": 0,
  "metadata": {
    "colab": {
      "provenance": []
    },
    "kernelspec": {
      "name": "python3",
      "display_name": "Python 3"
    },
    "language_info": {
      "name": "python"
    }
  },
  "cells": [
    {
      "cell_type": "markdown",
      "source": [
        "Shivansh Chaturvedi\n",
        "\n",
        "Advanced Machine Learning HW3\n",
        "\n",
        "GitHub Repo: https://github.com/shivansh-chaturvedi/GR5074-Advanced-Machine-Learning"
      ],
      "metadata": {
        "id": "nDU8f9tfF1Wh"
      }
    },
    {
      "cell_type": "code",
      "execution_count": null,
      "metadata": {
        "id": "FppxWYT5CN78"
      },
      "outputs": [],
      "source": [
        "#install aimodelshare library\n",
        "! pip install aimodelshare==0.0.189\n"
      ]
    },
    {
      "cell_type": "code",
      "source": [
        "# imports\n",
        "\n",
        "import pandas as pd\n",
        "import numpy as np\n",
        "import matplotlib.pyplot as plt\n",
        "import seaborn as sns\n",
        "from zipfile import ZipFile\n",
        "\n",
        "from mpl_toolkits.axes_grid1 import ImageGrid\n",
        "import random\n",
        "\n",
        "import sys\n",
        "import time\n",
        "import cv2\n",
        "from matplotlib import pyplot as plt\n",
        "import tensorflow as tf\n",
        "import os\n",
        "\n",
        "from sklearn.model_selection import train_test_split\n",
        "\n",
        "from tensorflow.python.keras.utils import np_utils\n",
        "from tensorflow.keras.models import Sequential, Model\n",
        "from tensorflow.keras.layers import Dense, Dropout, Flatten, Activation, BatchNormalization\n",
        "from tensorflow.python.keras.layers.convolutional import Conv2D, MaxPooling2D \n",
        "from tensorflow.keras.preprocessing.image import ImageDataGenerator\n",
        "from tensorflow.keras.optimizers import Adam,SGD,Adagrad,Adadelta,RMSprop\n",
        "from tensorflow.keras.applications import VGG19, ResNet50, InceptionV3\n",
        "\n",
        "from tensorflow.keras.applications import VGG16\n",
        "from tensorflow.keras.preprocessing import image\n",
        "from tensorflow.keras.layers import Dense, GlobalAveragePooling2D, Flatten\n",
        "from tensorflow.keras import backend as K\n",
        "\n",
        "import aimodelshare as ai"
      ],
      "metadata": {
        "id": "uKcGAxWLGV-i"
      },
      "execution_count": null,
      "outputs": []
    },
    {
      "cell_type": "code",
      "source": [
        "#import data\n",
        "\n",
        "# Get competition data\n",
        "from aimodelshare import download_data\n",
        "download_data('public.ecr.aws/y2e2a1d6/sst2_competition_data-repository:latest') \n",
        "\n",
        "# Set up X_train, X_test, and y_train_labels objects\n",
        "import warnings\n",
        "warnings.simplefilter(action='ignore', category=Warning)\n",
        "\n",
        "X_train=pd.read_csv(\"sst2_competition_data/X_train.csv\", squeeze=True)\n",
        "X_test=pd.read_csv(\"sst2_competition_data/X_test.csv\", squeeze=True)\n",
        "\n",
        "y_train_labels=pd.read_csv(\"sst2_competition_data/y_train_labels.csv\", squeeze=True)\n",
        "\n",
        "# ohe encode Y data\n",
        "y_train = pd.get_dummies(y_train_labels)"
      ],
      "metadata": {
        "colab": {
          "base_uri": "https://localhost:8080/"
        },
        "id": "w4iHD0h9GpiW",
        "outputId": "f397a2f8-bc30-4ba0-aef1-c08aef33e519"
      },
      "execution_count": null,
      "outputs": [
        {
          "output_type": "stream",
          "name": "stdout",
          "text": [
            "Downloading [=============================================>   ]\n",
            "\n",
            "Data downloaded successfully.\n"
          ]
        }
      ]
    },
    {
      "cell_type": "code",
      "source": [
        "#Set credentials using modelshare.org username/password\n",
        "from aimodelshare.aws import set_credentials\n",
        "import aimodelshare as ai\n",
        "\n",
        "apiurl=\"https://rlxjxnoql9.execute-api.us-east-1.amazonaws.com/prod/m\"\n",
        "set_credentials(apiurl=apiurl)\n",
        "\n",
        "#Instantiate Competition\n",
        "mycompetition = ai.Competition(apiurl)\n",
        "     "
      ],
      "metadata": {
        "colab": {
          "base_uri": "https://localhost:8080/"
        },
        "id": "ET3W4Td6G0bV",
        "outputId": "fe90bc00-fdec-4e34-aee3-5c637507ce27"
      },
      "execution_count": null,
      "outputs": [
        {
          "output_type": "stream",
          "name": "stdout",
          "text": [
            "AI Modelshare Username:··········\n",
            "AI Modelshare Password:··········\n",
            "AI Model Share login credentials set successfully.\n"
          ]
        }
      ]
    },
    {
      "cell_type": "code",
      "source": [
        "#preprocessing\n",
        "\n",
        "# This preprocessor function makes use of the tf.keras tokenizer\n",
        "\n",
        "from tensorflow import keras\n",
        "from tensorflow.keras.preprocessing.text import Tokenizer\n",
        "from tensorflow.keras.utils import pad_sequences\n",
        "\n",
        "# Build vocabulary from training text data\n",
        "tokenizer = Tokenizer(num_words=10000)\n",
        "tokenizer.fit_on_texts(X_train)\n",
        "\n",
        "# preprocessor tokenizes words and makes sure all documents have the same length\n",
        "def preprocessor(data, maxlen=40, max_words=10000):\n",
        "\n",
        "    sequences = tokenizer.texts_to_sequences(data)\n",
        "\n",
        "    word_index = tokenizer.word_index\n",
        "    X = pad_sequences(sequences, maxlen=maxlen)\n",
        "\n",
        "    return X\n",
        "\n",
        "print(preprocessor(X_train).shape)\n",
        "print(preprocessor(X_test).shape)"
      ],
      "metadata": {
        "colab": {
          "base_uri": "https://localhost:8080/"
        },
        "id": "KLhXKLOmG6DG",
        "outputId": "a6a6d423-6c79-48b4-c23a-6ac753b6f716"
      },
      "execution_count": null,
      "outputs": [
        {
          "output_type": "stream",
          "name": "stdout",
          "text": [
            "(6920, 40)\n",
            "(1821, 40)\n"
          ]
        }
      ]
    },
    {
      "cell_type": "code",
      "source": [
        "ai.export_preprocessor(preprocessor,\"\") \n"
      ],
      "metadata": {
        "colab": {
          "base_uri": "https://localhost:8080/"
        },
        "id": "rrQqRA8OHCbC",
        "outputId": "3e5b2aed-a26a-469f-aeab-6a0e58456aac"
      },
      "execution_count": null,
      "outputs": [
        {
          "output_type": "stream",
          "name": "stdout",
          "text": [
            "Your preprocessor is now saved to 'preprocessor.zip'\n"
          ]
        }
      ]
    },
    {
      "cell_type": "markdown",
      "source": [
        "### (1) Discuss the dataset in general terms and describe why building a predictive model using this data might be practically useful.  Who could benefit from a model like this? Explain."
      ],
      "metadata": {
        "id": "7UqRZxQdgflB"
      }
    },
    {
      "cell_type": "markdown",
      "source": [
        "This is a dataset of movie reviews, which can be broadly classified into positive or negative sentiments. Analysis of this data could be helpful for publications seeking to describe the reception of a movie, studios looking to asses the performance of their investments, and other critics to gauge how their peers reviewed the work."
      ],
      "metadata": {
        "id": "8oPjsLu-guGg"
      }
    },
    {
      "cell_type": "markdown",
      "source": [
        "### (2) Run at least three prediction models to try to predict the SST sentiment dataset well.\n",
        "\n",
        "* Use an Embedding layer and LSTM layers in at least one model\n",
        "* Use an Embedding layer and Conv1d layers in at least one model\n",
        "* Use transfer learning with glove embeddings for at least one of these models\n",
        "* Discuss which models performed better and point out relevant hyper-parameter values for successful models.\n",
        "*Submit your best three models to the leader board for the SST Model Share competition."
      ],
      "metadata": {
        "id": "gQ43wEfJhQWy"
      }
    },
    {
      "cell_type": "code",
      "source": [
        "# embedding + LSTM"
      ],
      "metadata": {
        "id": "gdR6CiJIn6LN"
      },
      "execution_count": null,
      "outputs": []
    },
    {
      "cell_type": "code",
      "source": [
        "# Train and submit model 2 using same preprocessor (note that you could save a new preprocessor, but we will use the same one for this example).\n",
        "from tensorflow.keras.models import Sequential\n",
        "from tensorflow.keras.layers import Dense, Embedding, LSTM, Flatten\n",
        "\n",
        "model2 = Sequential()\n",
        "model2.add(Embedding(10000, 16, input_length=40))\n",
        "model2.add(LSTM(32, return_sequences=True, dropout=0.2))\n",
        "model2.add(LSTM(32, dropout=0.2))\n",
        "model2.add(Flatten())\n",
        "model2.add(Dense(2, activation='softmax'))\n",
        "\n",
        "model2.compile(optimizer='rmsprop', loss='binary_crossentropy', metrics=['acc'])\n",
        "\n",
        "history = model2.fit(preprocessor(X_train), y_train,\n",
        "                    epochs=2,\n",
        "                    batch_size=15,\n",
        "                    validation_split=0.2)"
      ],
      "metadata": {
        "colab": {
          "base_uri": "https://localhost:8080/"
        },
        "id": "zK4pWm0kgkcn",
        "outputId": "e2d92cd3-9d0b-4e79-8b59-375f78809615"
      },
      "execution_count": null,
      "outputs": [
        {
          "output_type": "stream",
          "name": "stdout",
          "text": [
            "Epoch 1/2\n",
            "370/370 [==============================] - 17s 37ms/step - loss: 0.6472 - acc: 0.6299 - val_loss: 0.9359 - val_acc: 0.3678\n",
            "Epoch 2/2\n",
            "370/370 [==============================] - 16s 44ms/step - loss: 0.4914 - acc: 0.7668 - val_loss: 1.4992 - val_acc: 0.3194\n"
          ]
        }
      ]
    },
    {
      "cell_type": "code",
      "source": [
        "# Save keras model to local ONNX file\n",
        "from aimodelshare.aimsonnx import model_to_onnx\n",
        "\n",
        "onnx_model = model_to_onnx(model2, framework='keras',\n",
        "                          transfer_learning=False,\n",
        "                          deep_learning=True)\n",
        "\n",
        "with open(\"model2.onnx\", \"wb\") as f:\n",
        "    f.write(onnx_model.SerializeToString())"
      ],
      "metadata": {
        "id": "YPOwHcnfknz3"
      },
      "execution_count": null,
      "outputs": []
    },
    {
      "cell_type": "code",
      "source": [
        "#submit model\n",
        "\n",
        "#-- Generate predicted y values (Model 1)\n",
        "#Note: Keras predict returns the predicted column index location for classification models\n",
        "prediction_column_index=model2.predict(preprocessor(X_test)).argmax(axis=1)\n",
        "\n",
        "# extract correct prediction labels \n",
        "prediction_labels = [y_train.columns[i] for i in prediction_column_index]\n",
        "\n",
        "# Submit Model 1 to Competition Leaderboard\n",
        "mycompetition.submit_model(model_filepath = \"model2.onnx\",\n",
        "                                 preprocessor_filepath=\"preprocessor.zip\",\n",
        "                                 prediction_submission=prediction_labels,\n",
        "                           custom_metadata = {'team': 3})"
      ],
      "metadata": {
        "colab": {
          "base_uri": "https://localhost:8080/"
        },
        "id": "6D0x6_L5njtW",
        "outputId": "2587a85a-b933-4622-81a6-17ee35302b25"
      },
      "execution_count": null,
      "outputs": [
        {
          "output_type": "stream",
          "name": "stdout",
          "text": [
            "57/57 [==============================] - 1s 9ms/step\n",
            "Insert search tags to help users find your model (optional): \n",
            "Provide any useful notes about your model (optional): \n",
            "\n",
            "Your model has been submitted as model version 334\n",
            "\n",
            "To submit code used to create this model or to view current leaderboard navigate to Model Playground: \n",
            "\n",
            " https://www.modelshare.org/detail/model:2763\n"
          ]
        }
      ]
    },
    {
      "cell_type": "code",
      "source": [
        "# embedding + conv1d"
      ],
      "metadata": {
        "id": "dJL6DM5woSjQ"
      },
      "execution_count": null,
      "outputs": []
    },
    {
      "cell_type": "code",
      "source": [
        "from tensorflow.keras.layers import Dense, Embedding,Flatten\n",
        "from tensorflow.keras.models import Sequential\n",
        "from tensorflow.keras import layers\n",
        "from tensorflow.keras.optimizers import RMSprop\n",
        "from tensorflow.keras.layers import SimpleRNN, LSTM,Embedding\n",
        "\n",
        "model3 = Sequential()\n",
        "model3.add(Embedding(10000, 16, input_length=40))\n",
        "model3.add(layers.Conv1D(16, 4, activation='relu')) \n",
        "model3.add(layers.MaxPooling1D(8))\n",
        "model3.add(layers.Conv1D(16, 4, activation='relu'))\n",
        "model3.add(layers.GlobalMaxPooling1D())\n",
        "model3.add(layers.Dense(4))\n",
        "model3.add(Flatten())\n",
        "model3.add(Dense(2, activation='softmax'))\n",
        "model3.add(Dense(2, activation='softmax'))\n",
        "model3.add(Dense(2, activation='softmax'))\n",
        "model3.summary()\n",
        "\n",
        "model3.compile(optimizer='rmsprop', loss='categorical_crossentropy', metrics=['acc'])\n",
        "\n",
        "history = model3.fit(preprocessor(X_train), y_train,\n",
        "                    epochs=10,\n",
        "                    batch_size=32,\n",
        "                    validation_split=0.2)"
      ],
      "metadata": {
        "colab": {
          "base_uri": "https://localhost:8080/"
        },
        "id": "5b3ZMSFToWS2",
        "outputId": "5626f35a-7074-40fb-fce3-60cee95cfd26"
      },
      "execution_count": null,
      "outputs": [
        {
          "output_type": "stream",
          "name": "stdout",
          "text": [
            "Model: \"sequential_2\"\n",
            "_________________________________________________________________\n",
            " Layer (type)                Output Shape              Param #   \n",
            "=================================================================\n",
            " embedding_2 (Embedding)     (None, 40, 16)            160000    \n",
            "                                                                 \n",
            " conv1d (Conv1D)             (None, 37, 16)            1040      \n",
            "                                                                 \n",
            " max_pooling1d (MaxPooling1D  (None, 4, 16)            0         \n",
            " )                                                               \n",
            "                                                                 \n",
            " conv1d_1 (Conv1D)           (None, 1, 16)             1040      \n",
            "                                                                 \n",
            " global_max_pooling1d (Globa  (None, 16)               0         \n",
            " lMaxPooling1D)                                                  \n",
            "                                                                 \n",
            " dense_2 (Dense)             (None, 4)                 68        \n",
            "                                                                 \n",
            " flatten_2 (Flatten)         (None, 4)                 0         \n",
            "                                                                 \n",
            " dense_3 (Dense)             (None, 2)                 10        \n",
            "                                                                 \n",
            " dense_4 (Dense)             (None, 2)                 6         \n",
            "                                                                 \n",
            " dense_5 (Dense)             (None, 2)                 6         \n",
            "                                                                 \n",
            "=================================================================\n",
            "Total params: 162,170\n",
            "Trainable params: 162,170\n",
            "Non-trainable params: 0\n",
            "_________________________________________________________________\n",
            "Epoch 1/10\n",
            "173/173 [==============================] - 2s 4ms/step - loss: 0.6661 - acc: 0.6149 - val_loss: 0.8428 - val_acc: 0.1488\n",
            "Epoch 2/10\n",
            "173/173 [==============================] - 1s 4ms/step - loss: 0.6483 - acc: 0.6165 - val_loss: 0.9088 - val_acc: 0.1525\n",
            "Epoch 3/10\n",
            "173/173 [==============================] - 1s 4ms/step - loss: 0.5648 - acc: 0.7213 - val_loss: 0.7160 - val_acc: 0.5390\n",
            "Epoch 4/10\n",
            "173/173 [==============================] - 1s 4ms/step - loss: 0.4477 - acc: 0.8369 - val_loss: 0.8125 - val_acc: 0.5036\n",
            "Epoch 5/10\n",
            "173/173 [==============================] - 1s 3ms/step - loss: 0.3516 - acc: 0.8846 - val_loss: 0.6289 - val_acc: 0.6503\n",
            "Epoch 6/10\n",
            "173/173 [==============================] - 1s 3ms/step - loss: 0.2746 - acc: 0.9133 - val_loss: 0.8702 - val_acc: 0.5448\n",
            "Epoch 7/10\n",
            "173/173 [==============================] - 1s 4ms/step - loss: 0.2180 - acc: 0.9323 - val_loss: 0.8091 - val_acc: 0.6257\n",
            "Epoch 8/10\n",
            "173/173 [==============================] - 1s 4ms/step - loss: 0.1770 - acc: 0.9456 - val_loss: 0.8259 - val_acc: 0.6366\n",
            "Epoch 9/10\n",
            "173/173 [==============================] - 1s 3ms/step - loss: 0.1510 - acc: 0.9500 - val_loss: 0.8206 - val_acc: 0.6055\n",
            "Epoch 10/10\n",
            "173/173 [==============================] - 1s 3ms/step - loss: 0.1296 - acc: 0.9547 - val_loss: 1.2512 - val_acc: 0.4978\n"
          ]
        }
      ]
    },
    {
      "cell_type": "code",
      "source": [
        "# Save keras model to local ONNX file\n",
        "from aimodelshare.aimsonnx import model_to_onnx\n",
        "\n",
        "onnx_model = model_to_onnx(model3, framework='keras',\n",
        "                          transfer_learning=False,\n",
        "                          deep_learning=True)\n",
        "\n",
        "with open(\"model3.onnx\", \"wb\") as f:\n",
        "    f.write(onnx_model.SerializeToString())"
      ],
      "metadata": {
        "id": "VkLE2i8PodqF"
      },
      "execution_count": null,
      "outputs": []
    },
    {
      "cell_type": "code",
      "source": [
        "\n",
        "# Submit model\n",
        "\n",
        "#-- Generate predicted y values\n",
        "#Note: Keras predict returns the predicted column index location for classification models\n",
        "prediction_column_index=model3.predict(preprocessor(X_test)).argmax(axis=1)\n",
        "\n",
        "# extract correct prediction labels \n",
        "prediction_labels = [y_train.columns[i] for i in prediction_column_index]\n",
        "\n",
        "# Submit Model 1 to Competition Leaderboard\n",
        "mycompetition.submit_model(model_filepath = \"model3.onnx\",\n",
        "                                 preprocessor_filepath=\"preprocessor.zip\",\n",
        "                                 prediction_submission=prediction_labels,\n",
        "                           custom_metadata = {'team': 3})"
      ],
      "metadata": {
        "colab": {
          "base_uri": "https://localhost:8080/"
        },
        "id": "IviiuhSxogV1",
        "outputId": "52090a68-6837-4840-ee21-4ba3cb9252a4"
      },
      "execution_count": null,
      "outputs": [
        {
          "output_type": "stream",
          "name": "stdout",
          "text": [
            "57/57 [==============================] - 0s 1ms/step\n",
            "Insert search tags to help users find your model (optional): \n",
            "Provide any useful notes about your model (optional): \n",
            "\n",
            "Your model has been submitted as model version 335\n",
            "\n",
            "To submit code used to create this model or to view current leaderboard navigate to Model Playground: \n",
            "\n",
            " https://www.modelshare.org/detail/model:2763\n"
          ]
        }
      ]
    },
    {
      "cell_type": "code",
      "source": [
        "# transfer learning + glove embedding"
      ],
      "metadata": {
        "id": "Z8mxFAJqrWtH"
      },
      "execution_count": null,
      "outputs": []
    },
    {
      "cell_type": "code",
      "source": [
        "! wget http://nlp.stanford.edu/data/wordvecs/glove.6B.zip"
      ],
      "metadata": {
        "colab": {
          "base_uri": "https://localhost:8080/"
        },
        "id": "xTDcZeUxrtLW",
        "outputId": "cc02a6b3-74a6-4216-d3a0-4d51870ea57c"
      },
      "execution_count": null,
      "outputs": [
        {
          "output_type": "stream",
          "name": "stdout",
          "text": [
            "--2023-04-18 00:06:15--  http://nlp.stanford.edu/data/wordvecs/glove.6B.zip\n",
            "Resolving nlp.stanford.edu (nlp.stanford.edu)... 171.64.67.140\n",
            "Connecting to nlp.stanford.edu (nlp.stanford.edu)|171.64.67.140|:80... connected.\n",
            "HTTP request sent, awaiting response... 302 Found\n",
            "Location: https://nlp.stanford.edu/data/wordvecs/glove.6B.zip [following]\n",
            "--2023-04-18 00:06:15--  https://nlp.stanford.edu/data/wordvecs/glove.6B.zip\n",
            "Connecting to nlp.stanford.edu (nlp.stanford.edu)|171.64.67.140|:443... connected.\n",
            "HTTP request sent, awaiting response... 301 Moved Permanently\n",
            "Location: https://downloads.cs.stanford.edu/nlp/data/wordvecs/glove.6B.zip [following]\n",
            "--2023-04-18 00:06:16--  https://downloads.cs.stanford.edu/nlp/data/wordvecs/glove.6B.zip\n",
            "Resolving downloads.cs.stanford.edu (downloads.cs.stanford.edu)... 171.64.64.22\n",
            "Connecting to downloads.cs.stanford.edu (downloads.cs.stanford.edu)|171.64.64.22|:443... connected.\n",
            "HTTP request sent, awaiting response... 200 OK\n",
            "Length: 862182753 (822M) [application/zip]\n",
            "Saving to: ‘glove.6B.zip’\n",
            "\n",
            "glove.6B.zip        100%[===================>] 822.24M  5.02MB/s    in 2m 39s  \n",
            "\n",
            "2023-04-18 00:08:55 (5.17 MB/s) - ‘glove.6B.zip’ saved [862182753/862182753]\n",
            "\n"
          ]
        }
      ]
    },
    {
      "cell_type": "code",
      "source": [
        "! unzip glove.6B.zip "
      ],
      "metadata": {
        "colab": {
          "base_uri": "https://localhost:8080/"
        },
        "id": "rd7Izzs6ryL_",
        "outputId": "15ee02a3-296e-45fe-ee55-883183e0eba5"
      },
      "execution_count": null,
      "outputs": [
        {
          "output_type": "stream",
          "name": "stdout",
          "text": [
            "Archive:  glove.6B.zip\n",
            "  inflating: glove.6B.100d.txt       \n",
            "  inflating: glove.6B.200d.txt       \n",
            "  inflating: glove.6B.300d.txt       \n",
            "  inflating: glove.6B.50d.txt        \n"
          ]
        }
      ]
    },
    {
      "cell_type": "code",
      "source": [
        "# Extract embedding data for 100 feature embedding matrix\n",
        "import os\n",
        "glove_dir = os.getcwd()\n",
        "\n",
        "embeddings_index = {}\n",
        "f = open(os.path.join(glove_dir, 'glove.6B.100d.txt'))\n",
        "for line in f:\n",
        "    values = line.split()\n",
        "    word = values[0]\n",
        "    coefs = np.asarray(values[1:], dtype='float32')\n",
        "    embeddings_index[word] = coefs\n",
        "f.close()\n",
        "\n",
        "print('Found %s word vectors.' % len(embeddings_index))\n",
        "\n",
        "# Tokenize the data into one hot vectors\n",
        "from tensorflow.keras.preprocessing.text import Tokenizer\n",
        "from tensorflow.keras.preprocessing.sequence import pad_sequences\n",
        "import numpy as np\n",
        "\n",
        "maxlen = 150  # We will cut reviews after 150 words in sequence\n",
        "training_samples = 10000  # We will be training on 10000 samples\n",
        "validation_samples = 10000  # We will be validating on 10000 samples\n",
        "max_words = 5000  # We will only consider the top 5000 words in the dataset"
      ],
      "metadata": {
        "colab": {
          "base_uri": "https://localhost:8080/"
        },
        "id": "wzLcq9r4r3y1",
        "outputId": "bc558069-c2c7-42b8-d5b6-87d1a55a500c"
      },
      "execution_count": null,
      "outputs": [
        {
          "output_type": "stream",
          "name": "stdout",
          "text": [
            "Found 400001 word vectors.\n"
          ]
        }
      ]
    },
    {
      "cell_type": "code",
      "source": [
        "tokenizer = Tokenizer(num_words=max_words)\n",
        "tokenizer.fit_on_texts(X_train)\n",
        "\n",
        "sequences = tokenizer.texts_to_sequences(X_train) # converts words in each text to each word's numeric index in tokenizer dictionary.\n",
        "\n",
        "word_index = tokenizer.word_index\n",
        "print('Found %s unique tokens.' % len(word_index))\n",
        "\n",
        "data = pad_sequences(sequences, maxlen=maxlen)\n",
        "labels = np.asarray(y_train['Negative'])\n",
        "\n",
        "print('Shape of data tensor:', data.shape)\n",
        "print('Shape of label tensor:', labels.shape)\n",
        "     "
      ],
      "metadata": {
        "colab": {
          "base_uri": "https://localhost:8080/"
        },
        "id": "JZdmJTtxtCzZ",
        "outputId": "96803ce2-40d4-439c-fb2d-30a47cf865c2"
      },
      "execution_count": null,
      "outputs": [
        {
          "output_type": "stream",
          "name": "stdout",
          "text": [
            "Found 13835 unique tokens.\n",
            "Shape of data tensor: (6920, 150)\n",
            "Shape of label tensor: (6920,)\n"
          ]
        }
      ]
    },
    {
      "cell_type": "code",
      "source": [
        "# Split the data into a training set and a validation set\n",
        "# But first, shuffle the data, since we started from data\n",
        "# where sample are ordered (all negative first, then all positive).\n",
        "indices = np.arange(data.shape[0])\n",
        "np.random.shuffle(indices)\n",
        "data = data[indices]\n",
        "labels = labels[indices]\n",
        "\n",
        "X_train_1 = data[:training_samples] #100 words\n",
        "y_train_1 = labels[:training_samples]\n",
        "X_val_1 = data[training_samples: training_samples + validation_samples]\n",
        "y_val_1 = labels[training_samples: training_samples + validation_samples]\n",
        "     "
      ],
      "metadata": {
        "id": "u-zNRwLGtHfm"
      },
      "execution_count": null,
      "outputs": []
    },
    {
      "cell_type": "code",
      "source": [
        "\n",
        "# Build embedding matrix\n",
        "embedding_dim = 100 # change if you use txt files using larger number of features\n",
        "\n",
        "embedding_matrix = np.zeros((max_words, embedding_dim))\n",
        "for word, i in word_index.items():\n",
        "    embedding_vector = embeddings_index.get(word)\n",
        "    if i < max_words:\n",
        "        if embedding_vector is not None:\n",
        "            # Words not found in embedding index will be all-zeros.\n",
        "            embedding_matrix[i] = embedding_vector\n",
        "     "
      ],
      "metadata": {
        "id": "dvhZSFvVtJi9"
      },
      "execution_count": null,
      "outputs": []
    },
    {
      "cell_type": "code",
      "source": [
        "\n",
        "# Set up same model architecture as before and then import Glove weights to Embedding layer:\n",
        "from tensorflow.keras.layers import Dense, Embedding,Flatten\n",
        "from tensorflow.keras.models import Sequential\n",
        "import tensorflow as tf\n",
        "\n",
        "model4 = tf.keras.Sequential()\n",
        "model4.add(tf.keras.layers.Embedding(max_words, embedding_dim, input_length=maxlen))\n",
        "model4.add(tf.keras.layers.Flatten())\n",
        "model4.add(tf.keras.layers.Dense(32, activation='relu'))\n",
        "model4.add(tf.keras.layers.Dense(1, activation='sigmoid'))\n",
        "model4.summary()\n",
        "\n",
        "# Add weights in same manner as transfer learning and turn of trainable option before fitting model to freeze weights.\n",
        "model4.layers[0].set_weights([embedding_matrix])\n",
        "model4.layers[0].trainable = False\n",
        "\n",
        "model4.compile(optimizer='rmsprop',\n",
        "              loss='binary_crossentropy',\n",
        "              metrics=['acc'])\n",
        "history = model4.fit(X_train_1, y_train_1,\n",
        "                    epochs=5,\n",
        "                    batch_size=32,\n",
        "                    validation_data=(X_val_1, y_val_1))\n",
        "model4.save_weights('pre_trained_glove_model.h5')\n"
      ],
      "metadata": {
        "colab": {
          "base_uri": "https://localhost:8080/"
        },
        "id": "WU6QZ9YftL5d",
        "outputId": "9df9c402-daaf-4e27-a5e8-84d1f34c46cd"
      },
      "execution_count": null,
      "outputs": [
        {
          "output_type": "stream",
          "name": "stdout",
          "text": [
            "Model: \"sequential_4\"\n",
            "_________________________________________________________________\n",
            " Layer (type)                Output Shape              Param #   \n",
            "=================================================================\n",
            " embedding_4 (Embedding)     (None, 150, 100)          500000    \n",
            "                                                                 \n",
            " flatten_4 (Flatten)         (None, 15000)             0         \n",
            "                                                                 \n",
            " dense_8 (Dense)             (None, 32)                480032    \n",
            "                                                                 \n",
            " dense_9 (Dense)             (None, 1)                 33        \n",
            "                                                                 \n",
            "=================================================================\n",
            "Total params: 980,065\n",
            "Trainable params: 980,065\n",
            "Non-trainable params: 0\n",
            "_________________________________________________________________\n",
            "Epoch 1/5\n",
            "217/217 [==============================] - 2s 5ms/step - loss: 0.6429 - acc: 0.6263\n",
            "Epoch 2/5\n",
            "217/217 [==============================] - 1s 5ms/step - loss: 0.5399 - acc: 0.7331\n",
            "Epoch 3/5\n",
            "217/217 [==============================] - 1s 5ms/step - loss: 0.4647 - acc: 0.7789\n",
            "Epoch 4/5\n",
            "217/217 [==============================] - 1s 5ms/step - loss: 0.4072 - acc: 0.8114\n",
            "Epoch 5/5\n",
            "217/217 [==============================] - 1s 6ms/step - loss: 0.3415 - acc: 0.8516\n"
          ]
        }
      ]
    },
    {
      "cell_type": "code",
      "source": [
        "# Save keras model to local ONNX file\n",
        "from aimodelshare.aimsonnx import model_to_onnx\n",
        "\n",
        "onnx_model = model_to_onnx(model4, framework='keras',\n",
        "                          transfer_learning=True,\n",
        "                          deep_learning=True)\n",
        "\n",
        "with open(\"model4.onnx\", \"wb\") as f:\n",
        "    f.write(onnx_model.SerializeToString())"
      ],
      "metadata": {
        "id": "lgMs3zrLtWWX"
      },
      "execution_count": null,
      "outputs": []
    },
    {
      "cell_type": "code",
      "source": [
        "# submit model\n",
        "\n",
        "#using tokenizer object we fit to test data above\n",
        "sequences = tokenizer.texts_to_sequences(X_test)\n",
        "X_test_1 = pad_sequences(sequences, maxlen=maxlen)\n",
        "\n",
        "#-- Generate predicted y values (Model 1)\n",
        "#Note: Keras predict returns the predicted column index location for classification models\n",
        "prediction_column_index=model4.predict(X_test_1).argmax(axis=1)\n",
        "\n",
        "# extract correct prediction labels \n",
        "prediction_labels = [y_train.columns[i] for i in prediction_column_index]\n",
        "\n",
        "# Submit Model 1 to Competition Leaderboard\n",
        "mycompetition.submit_model(model_filepath = \"model4.onnx\",\n",
        "                                 preprocessor_filepath=\"preprocessor.zip\",\n",
        "                                 prediction_submission=prediction_labels,\n",
        "                           custom_metadata = {'team': 3})"
      ],
      "metadata": {
        "colab": {
          "base_uri": "https://localhost:8080/"
        },
        "id": "cr2jPXCFtct3",
        "outputId": "be4cfde6-01c6-4e7a-ee36-237717de5183"
      },
      "execution_count": null,
      "outputs": [
        {
          "output_type": "stream",
          "name": "stdout",
          "text": [
            "57/57 [==============================] - 0s 2ms/step\n",
            "Insert search tags to help users find your model (optional): \n",
            "Provide any useful notes about your model (optional): \n",
            "\n",
            "Your model has been submitted as model version 336\n",
            "\n",
            "To submit code used to create this model or to view current leaderboard navigate to Model Playground: \n",
            "\n",
            " https://www.modelshare.org/detail/model:2763\n"
          ]
        }
      ]
    },
    {
      "cell_type": "markdown",
      "source": [
        "### (3) After you submit your first three models, describe your best model with your team via your team slack channel\n",
        "* Fit and submit up to three more models after learning from your team.\n",
        "* Discuss results"
      ],
      "metadata": {
        "id": "DIGApGPgtkdP"
      }
    },
    {
      "cell_type": "markdown",
      "source": [
        "My best model was embedding layer + LSTM: two LSTM layers and 0.2 dropout, 2 epochs — accuracy of 77.8%"
      ],
      "metadata": {
        "id": "EfeD8IbWvFFG"
      }
    },
    {
      "cell_type": "code",
      "source": [
        "\n",
        "# Get leaderboard to explore current best model architectures\n",
        "\n",
        "# Get raw data in pandas data frame\n",
        "data = mycompetition.get_leaderboard()\n",
        "\n",
        "my_data = data[data['username'] == 'shivanshc']\n",
        "\n",
        "# Stylize leaderboard data\n",
        "mycompetition.stylize_leaderboard(my_data)"
      ],
      "metadata": {
        "colab": {
          "base_uri": "https://localhost:8080/",
          "height": 195
        },
        "id": "49jqA_LAtj50",
        "outputId": "63fe5951-5444-4fd1-ac10-f4cf42ba0173"
      },
      "execution_count": null,
      "outputs": [
        {
          "output_type": "execute_result",
          "data": {
            "text/plain": [
              "<pandas.io.formats.style.Styler at 0x7f08a0b569a0>"
            ],
            "text/html": [
              "<style type=\"text/css\">\n",
              "#T_dd2bb_row0_col0 {\n",
              "  text-align: center;\n",
              "  width: 10em;\n",
              "  background: linear-gradient(90deg, #f5f8d6 77.8%, transparent 77.8%);\n",
              "  color: #251e1b;\n",
              "  font-size: 12px;\n",
              "}\n",
              "#T_dd2bb_row0_col1 {\n",
              "  text-align: center;\n",
              "  width: 10em;\n",
              "  background: linear-gradient(90deg, #c778c8 77.8%, transparent 77.8%);\n",
              "  color: #251e1b;\n",
              "  font-size: 12px;\n",
              "}\n",
              "#T_dd2bb_row0_col2 {\n",
              "  text-align: center;\n",
              "  width: 10em;\n",
              "  background: linear-gradient(90deg, #ff4971 78.1%, transparent 78.1%);\n",
              "  color: #251e1b;\n",
              "  font-size: 12px;\n",
              "}\n",
              "#T_dd2bb_row0_col3 {\n",
              "  text-align: center;\n",
              "  width: 10em;\n",
              "  background: linear-gradient(90deg, #aadbaa 77.8%, transparent 77.8%);\n",
              "  color: #251e1b;\n",
              "  font-size: 12px;\n",
              "}\n",
              "#T_dd2bb_row0_col4, #T_dd2bb_row0_col5, #T_dd2bb_row0_col6, #T_dd2bb_row0_col7, #T_dd2bb_row0_col8, #T_dd2bb_row0_col9, #T_dd2bb_row0_col10, #T_dd2bb_row0_col11, #T_dd2bb_row0_col12, #T_dd2bb_row0_col13, #T_dd2bb_row0_col14, #T_dd2bb_row0_col15, #T_dd2bb_row0_col16, #T_dd2bb_row0_col17, #T_dd2bb_row0_col18, #T_dd2bb_row0_col19, #T_dd2bb_row0_col20, #T_dd2bb_row0_col21, #T_dd2bb_row0_col22, #T_dd2bb_row0_col23, #T_dd2bb_row0_col24, #T_dd2bb_row0_col25, #T_dd2bb_row0_col26, #T_dd2bb_row0_col27, #T_dd2bb_row0_col28, #T_dd2bb_row0_col29, #T_dd2bb_row0_col30, #T_dd2bb_row0_col31, #T_dd2bb_row0_col32, #T_dd2bb_row0_col33, #T_dd2bb_row1_col4, #T_dd2bb_row1_col5, #T_dd2bb_row1_col6, #T_dd2bb_row1_col7, #T_dd2bb_row1_col8, #T_dd2bb_row1_col9, #T_dd2bb_row1_col10, #T_dd2bb_row1_col11, #T_dd2bb_row1_col12, #T_dd2bb_row1_col13, #T_dd2bb_row1_col14, #T_dd2bb_row1_col15, #T_dd2bb_row1_col16, #T_dd2bb_row1_col17, #T_dd2bb_row1_col18, #T_dd2bb_row1_col19, #T_dd2bb_row1_col20, #T_dd2bb_row1_col21, #T_dd2bb_row1_col22, #T_dd2bb_row1_col23, #T_dd2bb_row1_col24, #T_dd2bb_row1_col25, #T_dd2bb_row1_col26, #T_dd2bb_row1_col27, #T_dd2bb_row1_col28, #T_dd2bb_row1_col29, #T_dd2bb_row1_col30, #T_dd2bb_row1_col31, #T_dd2bb_row1_col32, #T_dd2bb_row1_col33, #T_dd2bb_row2_col4, #T_dd2bb_row2_col5, #T_dd2bb_row2_col6, #T_dd2bb_row2_col7, #T_dd2bb_row2_col8, #T_dd2bb_row2_col9, #T_dd2bb_row2_col10, #T_dd2bb_row2_col11, #T_dd2bb_row2_col12, #T_dd2bb_row2_col13, #T_dd2bb_row2_col14, #T_dd2bb_row2_col15, #T_dd2bb_row2_col16, #T_dd2bb_row2_col17, #T_dd2bb_row2_col18, #T_dd2bb_row2_col19, #T_dd2bb_row2_col20, #T_dd2bb_row2_col21, #T_dd2bb_row2_col22, #T_dd2bb_row2_col23, #T_dd2bb_row2_col24, #T_dd2bb_row2_col25, #T_dd2bb_row2_col26, #T_dd2bb_row2_col27, #T_dd2bb_row2_col28, #T_dd2bb_row2_col29, #T_dd2bb_row2_col30, #T_dd2bb_row2_col31, #T_dd2bb_row2_col32, #T_dd2bb_row2_col33, #T_dd2bb_row3_col4, #T_dd2bb_row3_col5, #T_dd2bb_row3_col6, #T_dd2bb_row3_col7, #T_dd2bb_row3_col8, #T_dd2bb_row3_col9, #T_dd2bb_row3_col10, #T_dd2bb_row3_col11, #T_dd2bb_row3_col12, #T_dd2bb_row3_col13, #T_dd2bb_row3_col14, #T_dd2bb_row3_col15, #T_dd2bb_row3_col16, #T_dd2bb_row3_col17, #T_dd2bb_row3_col18, #T_dd2bb_row3_col19, #T_dd2bb_row3_col20, #T_dd2bb_row3_col21, #T_dd2bb_row3_col22, #T_dd2bb_row3_col23, #T_dd2bb_row3_col24, #T_dd2bb_row3_col25, #T_dd2bb_row3_col26, #T_dd2bb_row3_col27, #T_dd2bb_row3_col28, #T_dd2bb_row3_col29, #T_dd2bb_row3_col30, #T_dd2bb_row3_col31, #T_dd2bb_row3_col32, #T_dd2bb_row3_col33 {\n",
              "  text-align: center;\n",
              "}\n",
              "#T_dd2bb_row1_col0 {\n",
              "  text-align: center;\n",
              "  width: 10em;\n",
              "  background: linear-gradient(90deg, #f5f8d6 68.1%, transparent 68.1%);\n",
              "  color: #251e1b;\n",
              "  font-size: 12px;\n",
              "}\n",
              "#T_dd2bb_row1_col1 {\n",
              "  text-align: center;\n",
              "  width: 10em;\n",
              "  background: linear-gradient(90deg, #c778c8 66.9%, transparent 66.9%);\n",
              "  color: #251e1b;\n",
              "  font-size: 12px;\n",
              "}\n",
              "#T_dd2bb_row1_col2 {\n",
              "  text-align: center;\n",
              "  width: 10em;\n",
              "  background: linear-gradient(90deg, #ff4971 70.9%, transparent 70.9%);\n",
              "  color: #251e1b;\n",
              "  font-size: 12px;\n",
              "}\n",
              "#T_dd2bb_row1_col3 {\n",
              "  text-align: center;\n",
              "  width: 10em;\n",
              "  background: linear-gradient(90deg, #aadbaa 68.1%, transparent 68.1%);\n",
              "  color: #251e1b;\n",
              "  font-size: 12px;\n",
              "}\n",
              "#T_dd2bb_row2_col0 {\n",
              "  text-align: center;\n",
              "  width: 10em;\n",
              "  background: linear-gradient(90deg, #f5f8d6 60.2%, transparent 60.2%);\n",
              "  color: #251e1b;\n",
              "  font-size: 12px;\n",
              "}\n",
              "#T_dd2bb_row2_col1 {\n",
              "  text-align: center;\n",
              "  width: 10em;\n",
              "  background: linear-gradient(90deg, #c778c8 53.8%, transparent 53.8%);\n",
              "  color: #251e1b;\n",
              "  font-size: 12px;\n",
              "}\n",
              "#T_dd2bb_row2_col2 {\n",
              "  text-align: center;\n",
              "  width: 10em;\n",
              "  background: linear-gradient(90deg, #ff4971 72.8%, transparent 72.8%);\n",
              "  color: #251e1b;\n",
              "  font-size: 12px;\n",
              "}\n",
              "#T_dd2bb_row2_col3 {\n",
              "  text-align: center;\n",
              "  width: 10em;\n",
              "  background: linear-gradient(90deg, #aadbaa 60.2%, transparent 60.2%);\n",
              "  color: #251e1b;\n",
              "  font-size: 12px;\n",
              "}\n",
              "#T_dd2bb_row3_col0 {\n",
              "  text-align: center;\n",
              "  width: 10em;\n",
              "  background: linear-gradient(90deg, #f5f8d6 50.1%, transparent 50.1%);\n",
              "  color: #251e1b;\n",
              "  font-size: 12px;\n",
              "}\n",
              "#T_dd2bb_row3_col1 {\n",
              "  text-align: center;\n",
              "  width: 10em;\n",
              "  background: linear-gradient(90deg, #c778c8 33.4%, transparent 33.4%);\n",
              "  color: #251e1b;\n",
              "  font-size: 12px;\n",
              "}\n",
              "#T_dd2bb_row3_col2 {\n",
              "  text-align: center;\n",
              "  width: 10em;\n",
              "  background: linear-gradient(90deg, #ff4971 25.0%, transparent 25.0%);\n",
              "  color: #251e1b;\n",
              "  font-size: 12px;\n",
              "}\n",
              "#T_dd2bb_row3_col3 {\n",
              "  text-align: center;\n",
              "  width: 10em;\n",
              "  background: linear-gradient(90deg, #aadbaa 50.0%, transparent 50.0%);\n",
              "  color: #251e1b;\n",
              "  font-size: 12px;\n",
              "}\n",
              "</style>\n",
              "<table id=\"T_dd2bb\" class=\"dataframe\">\n",
              "  <thead>\n",
              "    <tr>\n",
              "      <th class=\"blank level0\" >&nbsp;</th>\n",
              "      <th id=\"T_dd2bb_level0_col0\" class=\"col_heading level0 col0\" >accuracy</th>\n",
              "      <th id=\"T_dd2bb_level0_col1\" class=\"col_heading level0 col1\" >f1_score</th>\n",
              "      <th id=\"T_dd2bb_level0_col2\" class=\"col_heading level0 col2\" >precision</th>\n",
              "      <th id=\"T_dd2bb_level0_col3\" class=\"col_heading level0 col3\" >recall</th>\n",
              "      <th id=\"T_dd2bb_level0_col4\" class=\"col_heading level0 col4\" >ml_framework</th>\n",
              "      <th id=\"T_dd2bb_level0_col5\" class=\"col_heading level0 col5\" >transfer_learning</th>\n",
              "      <th id=\"T_dd2bb_level0_col6\" class=\"col_heading level0 col6\" >deep_learning</th>\n",
              "      <th id=\"T_dd2bb_level0_col7\" class=\"col_heading level0 col7\" >model_type</th>\n",
              "      <th id=\"T_dd2bb_level0_col8\" class=\"col_heading level0 col8\" >depth</th>\n",
              "      <th id=\"T_dd2bb_level0_col9\" class=\"col_heading level0 col9\" >num_params</th>\n",
              "      <th id=\"T_dd2bb_level0_col10\" class=\"col_heading level0 col10\" >embedding_layers</th>\n",
              "      <th id=\"T_dd2bb_level0_col11\" class=\"col_heading level0 col11\" >conv1d_layers</th>\n",
              "      <th id=\"T_dd2bb_level0_col12\" class=\"col_heading level0 col12\" >maxpooling1d_layers</th>\n",
              "      <th id=\"T_dd2bb_level0_col13\" class=\"col_heading level0 col13\" >simplernn_layers</th>\n",
              "      <th id=\"T_dd2bb_level0_col14\" class=\"col_heading level0 col14\" >dropout_layers</th>\n",
              "      <th id=\"T_dd2bb_level0_col15\" class=\"col_heading level0 col15\" >flatten_layers</th>\n",
              "      <th id=\"T_dd2bb_level0_col16\" class=\"col_heading level0 col16\" >lstm_layers</th>\n",
              "      <th id=\"T_dd2bb_level0_col17\" class=\"col_heading level0 col17\" >inputlayer_layers</th>\n",
              "      <th id=\"T_dd2bb_level0_col18\" class=\"col_heading level0 col18\" >concatenate_layers</th>\n",
              "      <th id=\"T_dd2bb_level0_col19\" class=\"col_heading level0 col19\" >bidirectional_layers</th>\n",
              "      <th id=\"T_dd2bb_level0_col20\" class=\"col_heading level0 col20\" >globalmaxpooling1d_layers</th>\n",
              "      <th id=\"T_dd2bb_level0_col21\" class=\"col_heading level0 col21\" >globalaveragepooling1d_layers</th>\n",
              "      <th id=\"T_dd2bb_level0_col22\" class=\"col_heading level0 col22\" >dense_layers</th>\n",
              "      <th id=\"T_dd2bb_level0_col23\" class=\"col_heading level0 col23\" >batchnormalization_layers</th>\n",
              "      <th id=\"T_dd2bb_level0_col24\" class=\"col_heading level0 col24\" >sigmoid_act</th>\n",
              "      <th id=\"T_dd2bb_level0_col25\" class=\"col_heading level0 col25\" >softmax_act</th>\n",
              "      <th id=\"T_dd2bb_level0_col26\" class=\"col_heading level0 col26\" >tanh_act</th>\n",
              "      <th id=\"T_dd2bb_level0_col27\" class=\"col_heading level0 col27\" >relu_act</th>\n",
              "      <th id=\"T_dd2bb_level0_col28\" class=\"col_heading level0 col28\" >loss</th>\n",
              "      <th id=\"T_dd2bb_level0_col29\" class=\"col_heading level0 col29\" >optimizer</th>\n",
              "      <th id=\"T_dd2bb_level0_col30\" class=\"col_heading level0 col30\" >memory_size</th>\n",
              "      <th id=\"T_dd2bb_level0_col31\" class=\"col_heading level0 col31\" >team</th>\n",
              "      <th id=\"T_dd2bb_level0_col32\" class=\"col_heading level0 col32\" >username</th>\n",
              "      <th id=\"T_dd2bb_level0_col33\" class=\"col_heading level0 col33\" >version</th>\n",
              "    </tr>\n",
              "  </thead>\n",
              "  <tbody>\n",
              "    <tr>\n",
              "      <th id=\"T_dd2bb_level0_row0\" class=\"row_heading level0 row0\" >115</th>\n",
              "      <td id=\"T_dd2bb_row0_col0\" class=\"data row0 col0\" >77.83%</td>\n",
              "      <td id=\"T_dd2bb_row0_col1\" class=\"data row0 col1\" >77.77%</td>\n",
              "      <td id=\"T_dd2bb_row0_col2\" class=\"data row0 col2\" >78.14%</td>\n",
              "      <td id=\"T_dd2bb_row0_col3\" class=\"data row0 col3\" >77.83%</td>\n",
              "      <td id=\"T_dd2bb_row0_col4\" class=\"data row0 col4\" >keras</td>\n",
              "      <td id=\"T_dd2bb_row0_col5\" class=\"data row0 col5\" >nan</td>\n",
              "      <td id=\"T_dd2bb_row0_col6\" class=\"data row0 col6\" >True</td>\n",
              "      <td id=\"T_dd2bb_row0_col7\" class=\"data row0 col7\" >Sequential</td>\n",
              "      <td id=\"T_dd2bb_row0_col8\" class=\"data row0 col8\" >5.000000</td>\n",
              "      <td id=\"T_dd2bb_row0_col9\" class=\"data row0 col9\" >174658.000000</td>\n",
              "      <td id=\"T_dd2bb_row0_col10\" class=\"data row0 col10\" >1.000000</td>\n",
              "      <td id=\"T_dd2bb_row0_col11\" class=\"data row0 col11\" >nan</td>\n",
              "      <td id=\"T_dd2bb_row0_col12\" class=\"data row0 col12\" >nan</td>\n",
              "      <td id=\"T_dd2bb_row0_col13\" class=\"data row0 col13\" >nan</td>\n",
              "      <td id=\"T_dd2bb_row0_col14\" class=\"data row0 col14\" >nan</td>\n",
              "      <td id=\"T_dd2bb_row0_col15\" class=\"data row0 col15\" >1.000000</td>\n",
              "      <td id=\"T_dd2bb_row0_col16\" class=\"data row0 col16\" >2.000000</td>\n",
              "      <td id=\"T_dd2bb_row0_col17\" class=\"data row0 col17\" >nan</td>\n",
              "      <td id=\"T_dd2bb_row0_col18\" class=\"data row0 col18\" >nan</td>\n",
              "      <td id=\"T_dd2bb_row0_col19\" class=\"data row0 col19\" >nan</td>\n",
              "      <td id=\"T_dd2bb_row0_col20\" class=\"data row0 col20\" >nan</td>\n",
              "      <td id=\"T_dd2bb_row0_col21\" class=\"data row0 col21\" >nan</td>\n",
              "      <td id=\"T_dd2bb_row0_col22\" class=\"data row0 col22\" >1.000000</td>\n",
              "      <td id=\"T_dd2bb_row0_col23\" class=\"data row0 col23\" >nan</td>\n",
              "      <td id=\"T_dd2bb_row0_col24\" class=\"data row0 col24\" >nan</td>\n",
              "      <td id=\"T_dd2bb_row0_col25\" class=\"data row0 col25\" >1.000000</td>\n",
              "      <td id=\"T_dd2bb_row0_col26\" class=\"data row0 col26\" >2.000000</td>\n",
              "      <td id=\"T_dd2bb_row0_col27\" class=\"data row0 col27\" >nan</td>\n",
              "      <td id=\"T_dd2bb_row0_col28\" class=\"data row0 col28\" >str</td>\n",
              "      <td id=\"T_dd2bb_row0_col29\" class=\"data row0 col29\" >RMSprop</td>\n",
              "      <td id=\"T_dd2bb_row0_col30\" class=\"data row0 col30\" >699936.000000</td>\n",
              "      <td id=\"T_dd2bb_row0_col31\" class=\"data row0 col31\" >3.000000</td>\n",
              "      <td id=\"T_dd2bb_row0_col32\" class=\"data row0 col32\" >shivanshc</td>\n",
              "      <td id=\"T_dd2bb_row0_col33\" class=\"data row0 col33\" >330</td>\n",
              "    </tr>\n",
              "    <tr>\n",
              "      <th id=\"T_dd2bb_level0_row1\" class=\"row_heading level0 row1\" >236</th>\n",
              "      <td id=\"T_dd2bb_row1_col0\" class=\"data row1 col0\" >68.06%</td>\n",
              "      <td id=\"T_dd2bb_row1_col1\" class=\"data row1 col1\" >66.93%</td>\n",
              "      <td id=\"T_dd2bb_row1_col2\" class=\"data row1 col2\" >70.94%</td>\n",
              "      <td id=\"T_dd2bb_row1_col3\" class=\"data row1 col3\" >68.08%</td>\n",
              "      <td id=\"T_dd2bb_row1_col4\" class=\"data row1 col4\" >keras</td>\n",
              "      <td id=\"T_dd2bb_row1_col5\" class=\"data row1 col5\" >nan</td>\n",
              "      <td id=\"T_dd2bb_row1_col6\" class=\"data row1 col6\" >True</td>\n",
              "      <td id=\"T_dd2bb_row1_col7\" class=\"data row1 col7\" >Sequential</td>\n",
              "      <td id=\"T_dd2bb_row1_col8\" class=\"data row1 col8\" >10.000000</td>\n",
              "      <td id=\"T_dd2bb_row1_col9\" class=\"data row1 col9\" >162170.000000</td>\n",
              "      <td id=\"T_dd2bb_row1_col10\" class=\"data row1 col10\" >1.000000</td>\n",
              "      <td id=\"T_dd2bb_row1_col11\" class=\"data row1 col11\" >2.000000</td>\n",
              "      <td id=\"T_dd2bb_row1_col12\" class=\"data row1 col12\" >1.000000</td>\n",
              "      <td id=\"T_dd2bb_row1_col13\" class=\"data row1 col13\" >nan</td>\n",
              "      <td id=\"T_dd2bb_row1_col14\" class=\"data row1 col14\" >nan</td>\n",
              "      <td id=\"T_dd2bb_row1_col15\" class=\"data row1 col15\" >1.000000</td>\n",
              "      <td id=\"T_dd2bb_row1_col16\" class=\"data row1 col16\" >nan</td>\n",
              "      <td id=\"T_dd2bb_row1_col17\" class=\"data row1 col17\" >nan</td>\n",
              "      <td id=\"T_dd2bb_row1_col18\" class=\"data row1 col18\" >nan</td>\n",
              "      <td id=\"T_dd2bb_row1_col19\" class=\"data row1 col19\" >nan</td>\n",
              "      <td id=\"T_dd2bb_row1_col20\" class=\"data row1 col20\" >1.000000</td>\n",
              "      <td id=\"T_dd2bb_row1_col21\" class=\"data row1 col21\" >nan</td>\n",
              "      <td id=\"T_dd2bb_row1_col22\" class=\"data row1 col22\" >4.000000</td>\n",
              "      <td id=\"T_dd2bb_row1_col23\" class=\"data row1 col23\" >nan</td>\n",
              "      <td id=\"T_dd2bb_row1_col24\" class=\"data row1 col24\" >nan</td>\n",
              "      <td id=\"T_dd2bb_row1_col25\" class=\"data row1 col25\" >3.000000</td>\n",
              "      <td id=\"T_dd2bb_row1_col26\" class=\"data row1 col26\" >nan</td>\n",
              "      <td id=\"T_dd2bb_row1_col27\" class=\"data row1 col27\" >2.000000</td>\n",
              "      <td id=\"T_dd2bb_row1_col28\" class=\"data row1 col28\" >str</td>\n",
              "      <td id=\"T_dd2bb_row1_col29\" class=\"data row1 col29\" >RMSprop</td>\n",
              "      <td id=\"T_dd2bb_row1_col30\" class=\"data row1 col30\" >650480.000000</td>\n",
              "      <td id=\"T_dd2bb_row1_col31\" class=\"data row1 col31\" >3.000000</td>\n",
              "      <td id=\"T_dd2bb_row1_col32\" class=\"data row1 col32\" >shivanshc</td>\n",
              "      <td id=\"T_dd2bb_row1_col33\" class=\"data row1 col33\" >335</td>\n",
              "    </tr>\n",
              "    <tr>\n",
              "      <th id=\"T_dd2bb_level0_row2\" class=\"row_heading level0 row2\" >245</th>\n",
              "      <td id=\"T_dd2bb_row2_col0\" class=\"data row2 col0\" >60.15%</td>\n",
              "      <td id=\"T_dd2bb_row2_col1\" class=\"data row2 col1\" >53.79%</td>\n",
              "      <td id=\"T_dd2bb_row2_col2\" class=\"data row2 col2\" >72.77%</td>\n",
              "      <td id=\"T_dd2bb_row2_col3\" class=\"data row2 col3\" >60.19%</td>\n",
              "      <td id=\"T_dd2bb_row2_col4\" class=\"data row2 col4\" >keras</td>\n",
              "      <td id=\"T_dd2bb_row2_col5\" class=\"data row2 col5\" >nan</td>\n",
              "      <td id=\"T_dd2bb_row2_col6\" class=\"data row2 col6\" >True</td>\n",
              "      <td id=\"T_dd2bb_row2_col7\" class=\"data row2 col7\" >Sequential</td>\n",
              "      <td id=\"T_dd2bb_row2_col8\" class=\"data row2 col8\" >5.000000</td>\n",
              "      <td id=\"T_dd2bb_row2_col9\" class=\"data row2 col9\" >174658.000000</td>\n",
              "      <td id=\"T_dd2bb_row2_col10\" class=\"data row2 col10\" >1.000000</td>\n",
              "      <td id=\"T_dd2bb_row2_col11\" class=\"data row2 col11\" >nan</td>\n",
              "      <td id=\"T_dd2bb_row2_col12\" class=\"data row2 col12\" >nan</td>\n",
              "      <td id=\"T_dd2bb_row2_col13\" class=\"data row2 col13\" >nan</td>\n",
              "      <td id=\"T_dd2bb_row2_col14\" class=\"data row2 col14\" >nan</td>\n",
              "      <td id=\"T_dd2bb_row2_col15\" class=\"data row2 col15\" >1.000000</td>\n",
              "      <td id=\"T_dd2bb_row2_col16\" class=\"data row2 col16\" >2.000000</td>\n",
              "      <td id=\"T_dd2bb_row2_col17\" class=\"data row2 col17\" >nan</td>\n",
              "      <td id=\"T_dd2bb_row2_col18\" class=\"data row2 col18\" >nan</td>\n",
              "      <td id=\"T_dd2bb_row2_col19\" class=\"data row2 col19\" >nan</td>\n",
              "      <td id=\"T_dd2bb_row2_col20\" class=\"data row2 col20\" >nan</td>\n",
              "      <td id=\"T_dd2bb_row2_col21\" class=\"data row2 col21\" >nan</td>\n",
              "      <td id=\"T_dd2bb_row2_col22\" class=\"data row2 col22\" >1.000000</td>\n",
              "      <td id=\"T_dd2bb_row2_col23\" class=\"data row2 col23\" >nan</td>\n",
              "      <td id=\"T_dd2bb_row2_col24\" class=\"data row2 col24\" >nan</td>\n",
              "      <td id=\"T_dd2bb_row2_col25\" class=\"data row2 col25\" >1.000000</td>\n",
              "      <td id=\"T_dd2bb_row2_col26\" class=\"data row2 col26\" >2.000000</td>\n",
              "      <td id=\"T_dd2bb_row2_col27\" class=\"data row2 col27\" >nan</td>\n",
              "      <td id=\"T_dd2bb_row2_col28\" class=\"data row2 col28\" >str</td>\n",
              "      <td id=\"T_dd2bb_row2_col29\" class=\"data row2 col29\" >RMSprop</td>\n",
              "      <td id=\"T_dd2bb_row2_col30\" class=\"data row2 col30\" >699936.000000</td>\n",
              "      <td id=\"T_dd2bb_row2_col31\" class=\"data row2 col31\" >3.000000</td>\n",
              "      <td id=\"T_dd2bb_row2_col32\" class=\"data row2 col32\" >shivanshc</td>\n",
              "      <td id=\"T_dd2bb_row2_col33\" class=\"data row2 col33\" >334</td>\n",
              "    </tr>\n",
              "    <tr>\n",
              "      <th id=\"T_dd2bb_level0_row3\" class=\"row_heading level0 row3\" >304</th>\n",
              "      <td id=\"T_dd2bb_row3_col0\" class=\"data row3 col0\" >50.05%</td>\n",
              "      <td id=\"T_dd2bb_row3_col1\" class=\"data row3 col1\" >33.36%</td>\n",
              "      <td id=\"T_dd2bb_row3_col2\" class=\"data row3 col2\" >25.03%</td>\n",
              "      <td id=\"T_dd2bb_row3_col3\" class=\"data row3 col3\" >50.00%</td>\n",
              "      <td id=\"T_dd2bb_row3_col4\" class=\"data row3 col4\" >keras</td>\n",
              "      <td id=\"T_dd2bb_row3_col5\" class=\"data row3 col5\" >True</td>\n",
              "      <td id=\"T_dd2bb_row3_col6\" class=\"data row3 col6\" >True</td>\n",
              "      <td id=\"T_dd2bb_row3_col7\" class=\"data row3 col7\" >Sequential</td>\n",
              "      <td id=\"T_dd2bb_row3_col8\" class=\"data row3 col8\" >4.000000</td>\n",
              "      <td id=\"T_dd2bb_row3_col9\" class=\"data row3 col9\" >980065.000000</td>\n",
              "      <td id=\"T_dd2bb_row3_col10\" class=\"data row3 col10\" >1.000000</td>\n",
              "      <td id=\"T_dd2bb_row3_col11\" class=\"data row3 col11\" >nan</td>\n",
              "      <td id=\"T_dd2bb_row3_col12\" class=\"data row3 col12\" >nan</td>\n",
              "      <td id=\"T_dd2bb_row3_col13\" class=\"data row3 col13\" >nan</td>\n",
              "      <td id=\"T_dd2bb_row3_col14\" class=\"data row3 col14\" >nan</td>\n",
              "      <td id=\"T_dd2bb_row3_col15\" class=\"data row3 col15\" >1.000000</td>\n",
              "      <td id=\"T_dd2bb_row3_col16\" class=\"data row3 col16\" >nan</td>\n",
              "      <td id=\"T_dd2bb_row3_col17\" class=\"data row3 col17\" >nan</td>\n",
              "      <td id=\"T_dd2bb_row3_col18\" class=\"data row3 col18\" >nan</td>\n",
              "      <td id=\"T_dd2bb_row3_col19\" class=\"data row3 col19\" >nan</td>\n",
              "      <td id=\"T_dd2bb_row3_col20\" class=\"data row3 col20\" >nan</td>\n",
              "      <td id=\"T_dd2bb_row3_col21\" class=\"data row3 col21\" >nan</td>\n",
              "      <td id=\"T_dd2bb_row3_col22\" class=\"data row3 col22\" >2.000000</td>\n",
              "      <td id=\"T_dd2bb_row3_col23\" class=\"data row3 col23\" >nan</td>\n",
              "      <td id=\"T_dd2bb_row3_col24\" class=\"data row3 col24\" >1.000000</td>\n",
              "      <td id=\"T_dd2bb_row3_col25\" class=\"data row3 col25\" >nan</td>\n",
              "      <td id=\"T_dd2bb_row3_col26\" class=\"data row3 col26\" >nan</td>\n",
              "      <td id=\"T_dd2bb_row3_col27\" class=\"data row3 col27\" >1.000000</td>\n",
              "      <td id=\"T_dd2bb_row3_col28\" class=\"data row3 col28\" >str</td>\n",
              "      <td id=\"T_dd2bb_row3_col29\" class=\"data row3 col29\" >RMSprop</td>\n",
              "      <td id=\"T_dd2bb_row3_col30\" class=\"data row3 col30\" >3921008.000000</td>\n",
              "      <td id=\"T_dd2bb_row3_col31\" class=\"data row3 col31\" >3.000000</td>\n",
              "      <td id=\"T_dd2bb_row3_col32\" class=\"data row3 col32\" >shivanshc</td>\n",
              "      <td id=\"T_dd2bb_row3_col33\" class=\"data row3 col33\" >336</td>\n",
              "    </tr>\n",
              "  </tbody>\n",
              "</table>\n"
            ]
          },
          "metadata": {},
          "execution_count": 31
        }
      ]
    },
    {
      "cell_type": "markdown",
      "source": [
        "My team shared other ways to be successful, which I used to inform my other models"
      ],
      "metadata": {
        "id": "2384lU7avcaB"
      }
    },
    {
      "cell_type": "code",
      "source": [
        "# increasing my epochs for my best model"
      ],
      "metadata": {
        "id": "TzO-IRUKwuzC"
      },
      "execution_count": null,
      "outputs": []
    },
    {
      "cell_type": "code",
      "source": [
        "# Train and submit model 5 using same preprocessor (note that you could save a new preprocessor, but we will use the same one for this example).\n",
        "from tensorflow.keras.models import Sequential\n",
        "from tensorflow.keras.layers import Dense, Embedding, LSTM, Flatten\n",
        "\n",
        "model2v2 = Sequential()\n",
        "model2v2.add(Embedding(10000, 16, input_length=40))\n",
        "model2v2.add(LSTM(32, return_sequences=True, dropout=0.2))\n",
        "model2v2.add(LSTM(32, dropout=0.2))\n",
        "model2v2.add(Flatten())\n",
        "model2v2.add(Dense(2, activation='softmax'))\n",
        "\n",
        "model2v2.compile(optimizer='rmsprop', loss='binary_crossentropy', metrics=['acc'])\n",
        "\n",
        "history = model2v2.fit(preprocessor(X_train), y_train,\n",
        "                    epochs=5, # note increased epochs\n",
        "                    batch_size=15,\n",
        "                    validation_split=0.2)\n",
        "\n",
        "\n",
        "onnx_model = model_to_onnx(model2v2, framework='keras',\n",
        "                          transfer_learning=False,\n",
        "                          deep_learning=True)\n",
        "\n",
        "with open(\"model2v2.onnx\", \"wb\") as f:\n",
        "    f.write(onnx_model.SerializeToString())\n",
        "\n",
        "    #submit model\n",
        "\n",
        "#-- Generate predicted y values (Model 1)\n",
        "#Note: Keras predict returns the predicted column index location for classification models\n",
        "prediction_column_index=model2.predict(preprocessor(X_test)).argmax(axis=1)\n",
        "\n",
        "# extract correct prediction labels \n",
        "prediction_labels = [y_train.columns[i] for i in prediction_column_index]\n",
        "\n",
        "# Submit Model 1 to Competition Leaderboard\n",
        "mycompetition.submit_model(model_filepath = \"model2v2.onnx\",\n",
        "                                 preprocessor_filepath=\"preprocessor.zip\",\n",
        "                                 prediction_submission=prediction_labels,\n",
        "                           custom_metadata = {'team': 3})"
      ],
      "metadata": {
        "colab": {
          "base_uri": "https://localhost:8080/"
        },
        "id": "F60gBq1kwy3f",
        "outputId": "73481292-2a16-4e12-9179-39e96790212b"
      },
      "execution_count": null,
      "outputs": [
        {
          "output_type": "stream",
          "name": "stdout",
          "text": [
            "Epoch 1/5\n",
            "370/370 [==============================] - 17s 37ms/step - loss: 0.6412 - acc: 0.6384 - val_loss: 0.6522 - val_acc: 0.6308\n",
            "Epoch 2/5\n",
            "370/370 [==============================] - 12s 33ms/step - loss: 0.4777 - acc: 0.7767 - val_loss: 0.5375 - val_acc: 0.7616\n",
            "Epoch 3/5\n",
            "370/370 [==============================] - 12s 33ms/step - loss: 0.3997 - acc: 0.8228 - val_loss: 0.5144 - val_acc: 0.7702\n",
            "Epoch 4/5\n",
            "370/370 [==============================] - 11s 31ms/step - loss: 0.3520 - acc: 0.8447 - val_loss: 0.7051 - val_acc: 0.6712\n",
            "Epoch 5/5\n",
            "370/370 [==============================] - 15s 40ms/step - loss: 0.3167 - acc: 0.8669 - val_loss: 0.8390 - val_acc: 0.5643\n",
            "57/57 [==============================] - 1s 9ms/step\n",
            "Insert search tags to help users find your model (optional): improved model 2\n",
            "Provide any useful notes about your model (optional): \n",
            "\n",
            "Your model has been submitted as model version 339\n",
            "\n",
            "To submit code used to create this model or to view current leaderboard navigate to Model Playground: \n",
            "\n",
            " https://www.modelshare.org/detail/model:2763\n"
          ]
        }
      ]
    },
    {
      "cell_type": "code",
      "source": [
        "# let's see if this helped\n",
        "# Get leaderboard to explore current best model architectures\n",
        "\n",
        "# Get raw data in pandas data frame\n",
        "data = mycompetition.get_leaderboard()\n",
        "\n",
        "my_data = data[data['username'] == 'shivanshc']\n",
        "\n",
        "# Stylize leaderboard data\n",
        "mycompetition.stylize_leaderboard(my_data)"
      ],
      "metadata": {
        "colab": {
          "base_uri": "https://localhost:8080/",
          "height": 226
        },
        "id": "P65QobvPxnAE",
        "outputId": "248a75d7-e06c-4256-9928-d21b46779172"
      },
      "execution_count": null,
      "outputs": [
        {
          "output_type": "execute_result",
          "data": {
            "text/plain": [
              "<pandas.io.formats.style.Styler at 0x7f08a2f0ce80>"
            ],
            "text/html": [
              "<style type=\"text/css\">\n",
              "#T_1ced2_row0_col0 {\n",
              "  text-align: center;\n",
              "  width: 10em;\n",
              "  background: linear-gradient(90deg, #f5f8d6 77.8%, transparent 77.8%);\n",
              "  color: #251e1b;\n",
              "  font-size: 12px;\n",
              "}\n",
              "#T_1ced2_row0_col1 {\n",
              "  text-align: center;\n",
              "  width: 10em;\n",
              "  background: linear-gradient(90deg, #c778c8 77.8%, transparent 77.8%);\n",
              "  color: #251e1b;\n",
              "  font-size: 12px;\n",
              "}\n",
              "#T_1ced2_row0_col2 {\n",
              "  text-align: center;\n",
              "  width: 10em;\n",
              "  background: linear-gradient(90deg, #ff4971 78.1%, transparent 78.1%);\n",
              "  color: #251e1b;\n",
              "  font-size: 12px;\n",
              "}\n",
              "#T_1ced2_row0_col3 {\n",
              "  text-align: center;\n",
              "  width: 10em;\n",
              "  background: linear-gradient(90deg, #aadbaa 77.8%, transparent 77.8%);\n",
              "  color: #251e1b;\n",
              "  font-size: 12px;\n",
              "}\n",
              "#T_1ced2_row0_col4, #T_1ced2_row0_col5, #T_1ced2_row0_col6, #T_1ced2_row0_col7, #T_1ced2_row0_col8, #T_1ced2_row0_col9, #T_1ced2_row0_col10, #T_1ced2_row0_col11, #T_1ced2_row0_col12, #T_1ced2_row0_col13, #T_1ced2_row0_col14, #T_1ced2_row0_col15, #T_1ced2_row0_col16, #T_1ced2_row0_col17, #T_1ced2_row0_col18, #T_1ced2_row0_col19, #T_1ced2_row0_col20, #T_1ced2_row0_col21, #T_1ced2_row0_col22, #T_1ced2_row0_col23, #T_1ced2_row0_col24, #T_1ced2_row0_col25, #T_1ced2_row0_col26, #T_1ced2_row0_col27, #T_1ced2_row0_col28, #T_1ced2_row0_col29, #T_1ced2_row0_col30, #T_1ced2_row0_col31, #T_1ced2_row0_col32, #T_1ced2_row0_col33, #T_1ced2_row1_col4, #T_1ced2_row1_col5, #T_1ced2_row1_col6, #T_1ced2_row1_col7, #T_1ced2_row1_col8, #T_1ced2_row1_col9, #T_1ced2_row1_col10, #T_1ced2_row1_col11, #T_1ced2_row1_col12, #T_1ced2_row1_col13, #T_1ced2_row1_col14, #T_1ced2_row1_col15, #T_1ced2_row1_col16, #T_1ced2_row1_col17, #T_1ced2_row1_col18, #T_1ced2_row1_col19, #T_1ced2_row1_col20, #T_1ced2_row1_col21, #T_1ced2_row1_col22, #T_1ced2_row1_col23, #T_1ced2_row1_col24, #T_1ced2_row1_col25, #T_1ced2_row1_col26, #T_1ced2_row1_col27, #T_1ced2_row1_col28, #T_1ced2_row1_col29, #T_1ced2_row1_col30, #T_1ced2_row1_col31, #T_1ced2_row1_col32, #T_1ced2_row1_col33, #T_1ced2_row2_col4, #T_1ced2_row2_col5, #T_1ced2_row2_col6, #T_1ced2_row2_col7, #T_1ced2_row2_col8, #T_1ced2_row2_col9, #T_1ced2_row2_col10, #T_1ced2_row2_col11, #T_1ced2_row2_col12, #T_1ced2_row2_col13, #T_1ced2_row2_col14, #T_1ced2_row2_col15, #T_1ced2_row2_col16, #T_1ced2_row2_col17, #T_1ced2_row2_col18, #T_1ced2_row2_col19, #T_1ced2_row2_col20, #T_1ced2_row2_col21, #T_1ced2_row2_col22, #T_1ced2_row2_col23, #T_1ced2_row2_col24, #T_1ced2_row2_col25, #T_1ced2_row2_col26, #T_1ced2_row2_col27, #T_1ced2_row2_col28, #T_1ced2_row2_col29, #T_1ced2_row2_col30, #T_1ced2_row2_col31, #T_1ced2_row2_col32, #T_1ced2_row2_col33, #T_1ced2_row3_col4, #T_1ced2_row3_col5, #T_1ced2_row3_col6, #T_1ced2_row3_col7, #T_1ced2_row3_col8, #T_1ced2_row3_col9, #T_1ced2_row3_col10, #T_1ced2_row3_col11, #T_1ced2_row3_col12, #T_1ced2_row3_col13, #T_1ced2_row3_col14, #T_1ced2_row3_col15, #T_1ced2_row3_col16, #T_1ced2_row3_col17, #T_1ced2_row3_col18, #T_1ced2_row3_col19, #T_1ced2_row3_col20, #T_1ced2_row3_col21, #T_1ced2_row3_col22, #T_1ced2_row3_col23, #T_1ced2_row3_col24, #T_1ced2_row3_col25, #T_1ced2_row3_col26, #T_1ced2_row3_col27, #T_1ced2_row3_col28, #T_1ced2_row3_col29, #T_1ced2_row3_col30, #T_1ced2_row3_col31, #T_1ced2_row3_col32, #T_1ced2_row3_col33, #T_1ced2_row4_col4, #T_1ced2_row4_col5, #T_1ced2_row4_col6, #T_1ced2_row4_col7, #T_1ced2_row4_col8, #T_1ced2_row4_col9, #T_1ced2_row4_col10, #T_1ced2_row4_col11, #T_1ced2_row4_col12, #T_1ced2_row4_col13, #T_1ced2_row4_col14, #T_1ced2_row4_col15, #T_1ced2_row4_col16, #T_1ced2_row4_col17, #T_1ced2_row4_col18, #T_1ced2_row4_col19, #T_1ced2_row4_col20, #T_1ced2_row4_col21, #T_1ced2_row4_col22, #T_1ced2_row4_col23, #T_1ced2_row4_col24, #T_1ced2_row4_col25, #T_1ced2_row4_col26, #T_1ced2_row4_col27, #T_1ced2_row4_col28, #T_1ced2_row4_col29, #T_1ced2_row4_col30, #T_1ced2_row4_col31, #T_1ced2_row4_col32, #T_1ced2_row4_col33 {\n",
              "  text-align: center;\n",
              "}\n",
              "#T_1ced2_row1_col0 {\n",
              "  text-align: center;\n",
              "  width: 10em;\n",
              "  background: linear-gradient(90deg, #f5f8d6 68.1%, transparent 68.1%);\n",
              "  color: #251e1b;\n",
              "  font-size: 12px;\n",
              "}\n",
              "#T_1ced2_row1_col1 {\n",
              "  text-align: center;\n",
              "  width: 10em;\n",
              "  background: linear-gradient(90deg, #c778c8 66.9%, transparent 66.9%);\n",
              "  color: #251e1b;\n",
              "  font-size: 12px;\n",
              "}\n",
              "#T_1ced2_row1_col2 {\n",
              "  text-align: center;\n",
              "  width: 10em;\n",
              "  background: linear-gradient(90deg, #ff4971 70.9%, transparent 70.9%);\n",
              "  color: #251e1b;\n",
              "  font-size: 12px;\n",
              "}\n",
              "#T_1ced2_row1_col3 {\n",
              "  text-align: center;\n",
              "  width: 10em;\n",
              "  background: linear-gradient(90deg, #aadbaa 68.1%, transparent 68.1%);\n",
              "  color: #251e1b;\n",
              "  font-size: 12px;\n",
              "}\n",
              "#T_1ced2_row2_col0 {\n",
              "  text-align: center;\n",
              "  width: 10em;\n",
              "  background: linear-gradient(90deg, #f5f8d6 60.2%, transparent 60.2%);\n",
              "  color: #251e1b;\n",
              "  font-size: 12px;\n",
              "}\n",
              "#T_1ced2_row2_col1 {\n",
              "  text-align: center;\n",
              "  width: 10em;\n",
              "  background: linear-gradient(90deg, #c778c8 53.8%, transparent 53.8%);\n",
              "  color: #251e1b;\n",
              "  font-size: 12px;\n",
              "}\n",
              "#T_1ced2_row2_col2, #T_1ced2_row3_col2 {\n",
              "  text-align: center;\n",
              "  width: 10em;\n",
              "  background: linear-gradient(90deg, #ff4971 72.8%, transparent 72.8%);\n",
              "  color: #251e1b;\n",
              "  font-size: 12px;\n",
              "}\n",
              "#T_1ced2_row2_col3 {\n",
              "  text-align: center;\n",
              "  width: 10em;\n",
              "  background: linear-gradient(90deg, #aadbaa 60.2%, transparent 60.2%);\n",
              "  color: #251e1b;\n",
              "  font-size: 12px;\n",
              "}\n",
              "#T_1ced2_row3_col0 {\n",
              "  text-align: center;\n",
              "  width: 10em;\n",
              "  background: linear-gradient(90deg, #f5f8d6 59.7%, transparent 59.7%);\n",
              "  color: #251e1b;\n",
              "  font-size: 12px;\n",
              "}\n",
              "#T_1ced2_row3_col1 {\n",
              "  text-align: center;\n",
              "  width: 10em;\n",
              "  background: linear-gradient(90deg, #c778c8 53.0%, transparent 53.0%);\n",
              "  color: #251e1b;\n",
              "  font-size: 12px;\n",
              "}\n",
              "#T_1ced2_row3_col3 {\n",
              "  text-align: center;\n",
              "  width: 10em;\n",
              "  background: linear-gradient(90deg, #aadbaa 59.8%, transparent 59.8%);\n",
              "  color: #251e1b;\n",
              "  font-size: 12px;\n",
              "}\n",
              "#T_1ced2_row4_col0 {\n",
              "  text-align: center;\n",
              "  width: 10em;\n",
              "  background: linear-gradient(90deg, #f5f8d6 50.1%, transparent 50.1%);\n",
              "  color: #251e1b;\n",
              "  font-size: 12px;\n",
              "}\n",
              "#T_1ced2_row4_col1 {\n",
              "  text-align: center;\n",
              "  width: 10em;\n",
              "  background: linear-gradient(90deg, #c778c8 33.4%, transparent 33.4%);\n",
              "  color: #251e1b;\n",
              "  font-size: 12px;\n",
              "}\n",
              "#T_1ced2_row4_col2 {\n",
              "  text-align: center;\n",
              "  width: 10em;\n",
              "  background: linear-gradient(90deg, #ff4971 25.0%, transparent 25.0%);\n",
              "  color: #251e1b;\n",
              "  font-size: 12px;\n",
              "}\n",
              "#T_1ced2_row4_col3 {\n",
              "  text-align: center;\n",
              "  width: 10em;\n",
              "  background: linear-gradient(90deg, #aadbaa 50.0%, transparent 50.0%);\n",
              "  color: #251e1b;\n",
              "  font-size: 12px;\n",
              "}\n",
              "</style>\n",
              "<table id=\"T_1ced2\" class=\"dataframe\">\n",
              "  <thead>\n",
              "    <tr>\n",
              "      <th class=\"blank level0\" >&nbsp;</th>\n",
              "      <th id=\"T_1ced2_level0_col0\" class=\"col_heading level0 col0\" >accuracy</th>\n",
              "      <th id=\"T_1ced2_level0_col1\" class=\"col_heading level0 col1\" >f1_score</th>\n",
              "      <th id=\"T_1ced2_level0_col2\" class=\"col_heading level0 col2\" >precision</th>\n",
              "      <th id=\"T_1ced2_level0_col3\" class=\"col_heading level0 col3\" >recall</th>\n",
              "      <th id=\"T_1ced2_level0_col4\" class=\"col_heading level0 col4\" >ml_framework</th>\n",
              "      <th id=\"T_1ced2_level0_col5\" class=\"col_heading level0 col5\" >transfer_learning</th>\n",
              "      <th id=\"T_1ced2_level0_col6\" class=\"col_heading level0 col6\" >deep_learning</th>\n",
              "      <th id=\"T_1ced2_level0_col7\" class=\"col_heading level0 col7\" >model_type</th>\n",
              "      <th id=\"T_1ced2_level0_col8\" class=\"col_heading level0 col8\" >depth</th>\n",
              "      <th id=\"T_1ced2_level0_col9\" class=\"col_heading level0 col9\" >num_params</th>\n",
              "      <th id=\"T_1ced2_level0_col10\" class=\"col_heading level0 col10\" >embedding_layers</th>\n",
              "      <th id=\"T_1ced2_level0_col11\" class=\"col_heading level0 col11\" >conv1d_layers</th>\n",
              "      <th id=\"T_1ced2_level0_col12\" class=\"col_heading level0 col12\" >maxpooling1d_layers</th>\n",
              "      <th id=\"T_1ced2_level0_col13\" class=\"col_heading level0 col13\" >simplernn_layers</th>\n",
              "      <th id=\"T_1ced2_level0_col14\" class=\"col_heading level0 col14\" >dropout_layers</th>\n",
              "      <th id=\"T_1ced2_level0_col15\" class=\"col_heading level0 col15\" >flatten_layers</th>\n",
              "      <th id=\"T_1ced2_level0_col16\" class=\"col_heading level0 col16\" >lstm_layers</th>\n",
              "      <th id=\"T_1ced2_level0_col17\" class=\"col_heading level0 col17\" >inputlayer_layers</th>\n",
              "      <th id=\"T_1ced2_level0_col18\" class=\"col_heading level0 col18\" >concatenate_layers</th>\n",
              "      <th id=\"T_1ced2_level0_col19\" class=\"col_heading level0 col19\" >bidirectional_layers</th>\n",
              "      <th id=\"T_1ced2_level0_col20\" class=\"col_heading level0 col20\" >globalmaxpooling1d_layers</th>\n",
              "      <th id=\"T_1ced2_level0_col21\" class=\"col_heading level0 col21\" >globalaveragepooling1d_layers</th>\n",
              "      <th id=\"T_1ced2_level0_col22\" class=\"col_heading level0 col22\" >dense_layers</th>\n",
              "      <th id=\"T_1ced2_level0_col23\" class=\"col_heading level0 col23\" >batchnormalization_layers</th>\n",
              "      <th id=\"T_1ced2_level0_col24\" class=\"col_heading level0 col24\" >sigmoid_act</th>\n",
              "      <th id=\"T_1ced2_level0_col25\" class=\"col_heading level0 col25\" >softmax_act</th>\n",
              "      <th id=\"T_1ced2_level0_col26\" class=\"col_heading level0 col26\" >tanh_act</th>\n",
              "      <th id=\"T_1ced2_level0_col27\" class=\"col_heading level0 col27\" >relu_act</th>\n",
              "      <th id=\"T_1ced2_level0_col28\" class=\"col_heading level0 col28\" >loss</th>\n",
              "      <th id=\"T_1ced2_level0_col29\" class=\"col_heading level0 col29\" >optimizer</th>\n",
              "      <th id=\"T_1ced2_level0_col30\" class=\"col_heading level0 col30\" >memory_size</th>\n",
              "      <th id=\"T_1ced2_level0_col31\" class=\"col_heading level0 col31\" >team</th>\n",
              "      <th id=\"T_1ced2_level0_col32\" class=\"col_heading level0 col32\" >username</th>\n",
              "      <th id=\"T_1ced2_level0_col33\" class=\"col_heading level0 col33\" >version</th>\n",
              "    </tr>\n",
              "  </thead>\n",
              "  <tbody>\n",
              "    <tr>\n",
              "      <th id=\"T_1ced2_level0_row0\" class=\"row_heading level0 row0\" >115</th>\n",
              "      <td id=\"T_1ced2_row0_col0\" class=\"data row0 col0\" >77.83%</td>\n",
              "      <td id=\"T_1ced2_row0_col1\" class=\"data row0 col1\" >77.77%</td>\n",
              "      <td id=\"T_1ced2_row0_col2\" class=\"data row0 col2\" >78.14%</td>\n",
              "      <td id=\"T_1ced2_row0_col3\" class=\"data row0 col3\" >77.83%</td>\n",
              "      <td id=\"T_1ced2_row0_col4\" class=\"data row0 col4\" >keras</td>\n",
              "      <td id=\"T_1ced2_row0_col5\" class=\"data row0 col5\" >nan</td>\n",
              "      <td id=\"T_1ced2_row0_col6\" class=\"data row0 col6\" >True</td>\n",
              "      <td id=\"T_1ced2_row0_col7\" class=\"data row0 col7\" >Sequential</td>\n",
              "      <td id=\"T_1ced2_row0_col8\" class=\"data row0 col8\" >5.000000</td>\n",
              "      <td id=\"T_1ced2_row0_col9\" class=\"data row0 col9\" >174658.000000</td>\n",
              "      <td id=\"T_1ced2_row0_col10\" class=\"data row0 col10\" >1.000000</td>\n",
              "      <td id=\"T_1ced2_row0_col11\" class=\"data row0 col11\" >nan</td>\n",
              "      <td id=\"T_1ced2_row0_col12\" class=\"data row0 col12\" >nan</td>\n",
              "      <td id=\"T_1ced2_row0_col13\" class=\"data row0 col13\" >nan</td>\n",
              "      <td id=\"T_1ced2_row0_col14\" class=\"data row0 col14\" >nan</td>\n",
              "      <td id=\"T_1ced2_row0_col15\" class=\"data row0 col15\" >1.000000</td>\n",
              "      <td id=\"T_1ced2_row0_col16\" class=\"data row0 col16\" >2.000000</td>\n",
              "      <td id=\"T_1ced2_row0_col17\" class=\"data row0 col17\" >nan</td>\n",
              "      <td id=\"T_1ced2_row0_col18\" class=\"data row0 col18\" >nan</td>\n",
              "      <td id=\"T_1ced2_row0_col19\" class=\"data row0 col19\" >nan</td>\n",
              "      <td id=\"T_1ced2_row0_col20\" class=\"data row0 col20\" >nan</td>\n",
              "      <td id=\"T_1ced2_row0_col21\" class=\"data row0 col21\" >nan</td>\n",
              "      <td id=\"T_1ced2_row0_col22\" class=\"data row0 col22\" >1.000000</td>\n",
              "      <td id=\"T_1ced2_row0_col23\" class=\"data row0 col23\" >nan</td>\n",
              "      <td id=\"T_1ced2_row0_col24\" class=\"data row0 col24\" >nan</td>\n",
              "      <td id=\"T_1ced2_row0_col25\" class=\"data row0 col25\" >1.000000</td>\n",
              "      <td id=\"T_1ced2_row0_col26\" class=\"data row0 col26\" >2.000000</td>\n",
              "      <td id=\"T_1ced2_row0_col27\" class=\"data row0 col27\" >nan</td>\n",
              "      <td id=\"T_1ced2_row0_col28\" class=\"data row0 col28\" >str</td>\n",
              "      <td id=\"T_1ced2_row0_col29\" class=\"data row0 col29\" >RMSprop</td>\n",
              "      <td id=\"T_1ced2_row0_col30\" class=\"data row0 col30\" >699936.000000</td>\n",
              "      <td id=\"T_1ced2_row0_col31\" class=\"data row0 col31\" >3.000000</td>\n",
              "      <td id=\"T_1ced2_row0_col32\" class=\"data row0 col32\" >shivanshc</td>\n",
              "      <td id=\"T_1ced2_row0_col33\" class=\"data row0 col33\" >330</td>\n",
              "    </tr>\n",
              "    <tr>\n",
              "      <th id=\"T_1ced2_level0_row1\" class=\"row_heading level0 row1\" >236</th>\n",
              "      <td id=\"T_1ced2_row1_col0\" class=\"data row1 col0\" >68.06%</td>\n",
              "      <td id=\"T_1ced2_row1_col1\" class=\"data row1 col1\" >66.93%</td>\n",
              "      <td id=\"T_1ced2_row1_col2\" class=\"data row1 col2\" >70.94%</td>\n",
              "      <td id=\"T_1ced2_row1_col3\" class=\"data row1 col3\" >68.08%</td>\n",
              "      <td id=\"T_1ced2_row1_col4\" class=\"data row1 col4\" >keras</td>\n",
              "      <td id=\"T_1ced2_row1_col5\" class=\"data row1 col5\" >nan</td>\n",
              "      <td id=\"T_1ced2_row1_col6\" class=\"data row1 col6\" >True</td>\n",
              "      <td id=\"T_1ced2_row1_col7\" class=\"data row1 col7\" >Sequential</td>\n",
              "      <td id=\"T_1ced2_row1_col8\" class=\"data row1 col8\" >10.000000</td>\n",
              "      <td id=\"T_1ced2_row1_col9\" class=\"data row1 col9\" >162170.000000</td>\n",
              "      <td id=\"T_1ced2_row1_col10\" class=\"data row1 col10\" >1.000000</td>\n",
              "      <td id=\"T_1ced2_row1_col11\" class=\"data row1 col11\" >2.000000</td>\n",
              "      <td id=\"T_1ced2_row1_col12\" class=\"data row1 col12\" >1.000000</td>\n",
              "      <td id=\"T_1ced2_row1_col13\" class=\"data row1 col13\" >nan</td>\n",
              "      <td id=\"T_1ced2_row1_col14\" class=\"data row1 col14\" >nan</td>\n",
              "      <td id=\"T_1ced2_row1_col15\" class=\"data row1 col15\" >1.000000</td>\n",
              "      <td id=\"T_1ced2_row1_col16\" class=\"data row1 col16\" >nan</td>\n",
              "      <td id=\"T_1ced2_row1_col17\" class=\"data row1 col17\" >nan</td>\n",
              "      <td id=\"T_1ced2_row1_col18\" class=\"data row1 col18\" >nan</td>\n",
              "      <td id=\"T_1ced2_row1_col19\" class=\"data row1 col19\" >nan</td>\n",
              "      <td id=\"T_1ced2_row1_col20\" class=\"data row1 col20\" >1.000000</td>\n",
              "      <td id=\"T_1ced2_row1_col21\" class=\"data row1 col21\" >nan</td>\n",
              "      <td id=\"T_1ced2_row1_col22\" class=\"data row1 col22\" >4.000000</td>\n",
              "      <td id=\"T_1ced2_row1_col23\" class=\"data row1 col23\" >nan</td>\n",
              "      <td id=\"T_1ced2_row1_col24\" class=\"data row1 col24\" >nan</td>\n",
              "      <td id=\"T_1ced2_row1_col25\" class=\"data row1 col25\" >3.000000</td>\n",
              "      <td id=\"T_1ced2_row1_col26\" class=\"data row1 col26\" >nan</td>\n",
              "      <td id=\"T_1ced2_row1_col27\" class=\"data row1 col27\" >2.000000</td>\n",
              "      <td id=\"T_1ced2_row1_col28\" class=\"data row1 col28\" >str</td>\n",
              "      <td id=\"T_1ced2_row1_col29\" class=\"data row1 col29\" >RMSprop</td>\n",
              "      <td id=\"T_1ced2_row1_col30\" class=\"data row1 col30\" >650480.000000</td>\n",
              "      <td id=\"T_1ced2_row1_col31\" class=\"data row1 col31\" >3.000000</td>\n",
              "      <td id=\"T_1ced2_row1_col32\" class=\"data row1 col32\" >shivanshc</td>\n",
              "      <td id=\"T_1ced2_row1_col33\" class=\"data row1 col33\" >335</td>\n",
              "    </tr>\n",
              "    <tr>\n",
              "      <th id=\"T_1ced2_level0_row2\" class=\"row_heading level0 row2\" >245</th>\n",
              "      <td id=\"T_1ced2_row2_col0\" class=\"data row2 col0\" >60.15%</td>\n",
              "      <td id=\"T_1ced2_row2_col1\" class=\"data row2 col1\" >53.79%</td>\n",
              "      <td id=\"T_1ced2_row2_col2\" class=\"data row2 col2\" >72.77%</td>\n",
              "      <td id=\"T_1ced2_row2_col3\" class=\"data row2 col3\" >60.19%</td>\n",
              "      <td id=\"T_1ced2_row2_col4\" class=\"data row2 col4\" >keras</td>\n",
              "      <td id=\"T_1ced2_row2_col5\" class=\"data row2 col5\" >nan</td>\n",
              "      <td id=\"T_1ced2_row2_col6\" class=\"data row2 col6\" >True</td>\n",
              "      <td id=\"T_1ced2_row2_col7\" class=\"data row2 col7\" >Sequential</td>\n",
              "      <td id=\"T_1ced2_row2_col8\" class=\"data row2 col8\" >5.000000</td>\n",
              "      <td id=\"T_1ced2_row2_col9\" class=\"data row2 col9\" >174658.000000</td>\n",
              "      <td id=\"T_1ced2_row2_col10\" class=\"data row2 col10\" >1.000000</td>\n",
              "      <td id=\"T_1ced2_row2_col11\" class=\"data row2 col11\" >nan</td>\n",
              "      <td id=\"T_1ced2_row2_col12\" class=\"data row2 col12\" >nan</td>\n",
              "      <td id=\"T_1ced2_row2_col13\" class=\"data row2 col13\" >nan</td>\n",
              "      <td id=\"T_1ced2_row2_col14\" class=\"data row2 col14\" >nan</td>\n",
              "      <td id=\"T_1ced2_row2_col15\" class=\"data row2 col15\" >1.000000</td>\n",
              "      <td id=\"T_1ced2_row2_col16\" class=\"data row2 col16\" >2.000000</td>\n",
              "      <td id=\"T_1ced2_row2_col17\" class=\"data row2 col17\" >nan</td>\n",
              "      <td id=\"T_1ced2_row2_col18\" class=\"data row2 col18\" >nan</td>\n",
              "      <td id=\"T_1ced2_row2_col19\" class=\"data row2 col19\" >nan</td>\n",
              "      <td id=\"T_1ced2_row2_col20\" class=\"data row2 col20\" >nan</td>\n",
              "      <td id=\"T_1ced2_row2_col21\" class=\"data row2 col21\" >nan</td>\n",
              "      <td id=\"T_1ced2_row2_col22\" class=\"data row2 col22\" >1.000000</td>\n",
              "      <td id=\"T_1ced2_row2_col23\" class=\"data row2 col23\" >nan</td>\n",
              "      <td id=\"T_1ced2_row2_col24\" class=\"data row2 col24\" >nan</td>\n",
              "      <td id=\"T_1ced2_row2_col25\" class=\"data row2 col25\" >1.000000</td>\n",
              "      <td id=\"T_1ced2_row2_col26\" class=\"data row2 col26\" >2.000000</td>\n",
              "      <td id=\"T_1ced2_row2_col27\" class=\"data row2 col27\" >nan</td>\n",
              "      <td id=\"T_1ced2_row2_col28\" class=\"data row2 col28\" >str</td>\n",
              "      <td id=\"T_1ced2_row2_col29\" class=\"data row2 col29\" >RMSprop</td>\n",
              "      <td id=\"T_1ced2_row2_col30\" class=\"data row2 col30\" >699936.000000</td>\n",
              "      <td id=\"T_1ced2_row2_col31\" class=\"data row2 col31\" >3.000000</td>\n",
              "      <td id=\"T_1ced2_row2_col32\" class=\"data row2 col32\" >shivanshc</td>\n",
              "      <td id=\"T_1ced2_row2_col33\" class=\"data row2 col33\" >334</td>\n",
              "    </tr>\n",
              "    <tr>\n",
              "      <th id=\"T_1ced2_level0_row3\" class=\"row_heading level0 row3\" >246</th>\n",
              "      <td id=\"T_1ced2_row3_col0\" class=\"data row3 col0\" >59.71%</td>\n",
              "      <td id=\"T_1ced2_row3_col1\" class=\"data row3 col1\" >53.02%</td>\n",
              "      <td id=\"T_1ced2_row3_col2\" class=\"data row3 col2\" >72.80%</td>\n",
              "      <td id=\"T_1ced2_row3_col3\" class=\"data row3 col3\" >59.76%</td>\n",
              "      <td id=\"T_1ced2_row3_col4\" class=\"data row3 col4\" >keras</td>\n",
              "      <td id=\"T_1ced2_row3_col5\" class=\"data row3 col5\" >nan</td>\n",
              "      <td id=\"T_1ced2_row3_col6\" class=\"data row3 col6\" >True</td>\n",
              "      <td id=\"T_1ced2_row3_col7\" class=\"data row3 col7\" >Sequential</td>\n",
              "      <td id=\"T_1ced2_row3_col8\" class=\"data row3 col8\" >5.000000</td>\n",
              "      <td id=\"T_1ced2_row3_col9\" class=\"data row3 col9\" >174658.000000</td>\n",
              "      <td id=\"T_1ced2_row3_col10\" class=\"data row3 col10\" >1.000000</td>\n",
              "      <td id=\"T_1ced2_row3_col11\" class=\"data row3 col11\" >nan</td>\n",
              "      <td id=\"T_1ced2_row3_col12\" class=\"data row3 col12\" >nan</td>\n",
              "      <td id=\"T_1ced2_row3_col13\" class=\"data row3 col13\" >nan</td>\n",
              "      <td id=\"T_1ced2_row3_col14\" class=\"data row3 col14\" >nan</td>\n",
              "      <td id=\"T_1ced2_row3_col15\" class=\"data row3 col15\" >1.000000</td>\n",
              "      <td id=\"T_1ced2_row3_col16\" class=\"data row3 col16\" >2.000000</td>\n",
              "      <td id=\"T_1ced2_row3_col17\" class=\"data row3 col17\" >nan</td>\n",
              "      <td id=\"T_1ced2_row3_col18\" class=\"data row3 col18\" >nan</td>\n",
              "      <td id=\"T_1ced2_row3_col19\" class=\"data row3 col19\" >nan</td>\n",
              "      <td id=\"T_1ced2_row3_col20\" class=\"data row3 col20\" >nan</td>\n",
              "      <td id=\"T_1ced2_row3_col21\" class=\"data row3 col21\" >nan</td>\n",
              "      <td id=\"T_1ced2_row3_col22\" class=\"data row3 col22\" >1.000000</td>\n",
              "      <td id=\"T_1ced2_row3_col23\" class=\"data row3 col23\" >nan</td>\n",
              "      <td id=\"T_1ced2_row3_col24\" class=\"data row3 col24\" >nan</td>\n",
              "      <td id=\"T_1ced2_row3_col25\" class=\"data row3 col25\" >1.000000</td>\n",
              "      <td id=\"T_1ced2_row3_col26\" class=\"data row3 col26\" >2.000000</td>\n",
              "      <td id=\"T_1ced2_row3_col27\" class=\"data row3 col27\" >nan</td>\n",
              "      <td id=\"T_1ced2_row3_col28\" class=\"data row3 col28\" >str</td>\n",
              "      <td id=\"T_1ced2_row3_col29\" class=\"data row3 col29\" >RMSprop</td>\n",
              "      <td id=\"T_1ced2_row3_col30\" class=\"data row3 col30\" >699936.000000</td>\n",
              "      <td id=\"T_1ced2_row3_col31\" class=\"data row3 col31\" >3.000000</td>\n",
              "      <td id=\"T_1ced2_row3_col32\" class=\"data row3 col32\" >shivanshc</td>\n",
              "      <td id=\"T_1ced2_row3_col33\" class=\"data row3 col33\" >339</td>\n",
              "    </tr>\n",
              "    <tr>\n",
              "      <th id=\"T_1ced2_level0_row4\" class=\"row_heading level0 row4\" >306</th>\n",
              "      <td id=\"T_1ced2_row4_col0\" class=\"data row4 col0\" >50.05%</td>\n",
              "      <td id=\"T_1ced2_row4_col1\" class=\"data row4 col1\" >33.36%</td>\n",
              "      <td id=\"T_1ced2_row4_col2\" class=\"data row4 col2\" >25.03%</td>\n",
              "      <td id=\"T_1ced2_row4_col3\" class=\"data row4 col3\" >50.00%</td>\n",
              "      <td id=\"T_1ced2_row4_col4\" class=\"data row4 col4\" >keras</td>\n",
              "      <td id=\"T_1ced2_row4_col5\" class=\"data row4 col5\" >True</td>\n",
              "      <td id=\"T_1ced2_row4_col6\" class=\"data row4 col6\" >True</td>\n",
              "      <td id=\"T_1ced2_row4_col7\" class=\"data row4 col7\" >Sequential</td>\n",
              "      <td id=\"T_1ced2_row4_col8\" class=\"data row4 col8\" >4.000000</td>\n",
              "      <td id=\"T_1ced2_row4_col9\" class=\"data row4 col9\" >980065.000000</td>\n",
              "      <td id=\"T_1ced2_row4_col10\" class=\"data row4 col10\" >1.000000</td>\n",
              "      <td id=\"T_1ced2_row4_col11\" class=\"data row4 col11\" >nan</td>\n",
              "      <td id=\"T_1ced2_row4_col12\" class=\"data row4 col12\" >nan</td>\n",
              "      <td id=\"T_1ced2_row4_col13\" class=\"data row4 col13\" >nan</td>\n",
              "      <td id=\"T_1ced2_row4_col14\" class=\"data row4 col14\" >nan</td>\n",
              "      <td id=\"T_1ced2_row4_col15\" class=\"data row4 col15\" >1.000000</td>\n",
              "      <td id=\"T_1ced2_row4_col16\" class=\"data row4 col16\" >nan</td>\n",
              "      <td id=\"T_1ced2_row4_col17\" class=\"data row4 col17\" >nan</td>\n",
              "      <td id=\"T_1ced2_row4_col18\" class=\"data row4 col18\" >nan</td>\n",
              "      <td id=\"T_1ced2_row4_col19\" class=\"data row4 col19\" >nan</td>\n",
              "      <td id=\"T_1ced2_row4_col20\" class=\"data row4 col20\" >nan</td>\n",
              "      <td id=\"T_1ced2_row4_col21\" class=\"data row4 col21\" >nan</td>\n",
              "      <td id=\"T_1ced2_row4_col22\" class=\"data row4 col22\" >2.000000</td>\n",
              "      <td id=\"T_1ced2_row4_col23\" class=\"data row4 col23\" >nan</td>\n",
              "      <td id=\"T_1ced2_row4_col24\" class=\"data row4 col24\" >1.000000</td>\n",
              "      <td id=\"T_1ced2_row4_col25\" class=\"data row4 col25\" >nan</td>\n",
              "      <td id=\"T_1ced2_row4_col26\" class=\"data row4 col26\" >nan</td>\n",
              "      <td id=\"T_1ced2_row4_col27\" class=\"data row4 col27\" >1.000000</td>\n",
              "      <td id=\"T_1ced2_row4_col28\" class=\"data row4 col28\" >str</td>\n",
              "      <td id=\"T_1ced2_row4_col29\" class=\"data row4 col29\" >RMSprop</td>\n",
              "      <td id=\"T_1ced2_row4_col30\" class=\"data row4 col30\" >3921008.000000</td>\n",
              "      <td id=\"T_1ced2_row4_col31\" class=\"data row4 col31\" >3.000000</td>\n",
              "      <td id=\"T_1ced2_row4_col32\" class=\"data row4 col32\" >shivanshc</td>\n",
              "      <td id=\"T_1ced2_row4_col33\" class=\"data row4 col33\" >336</td>\n",
              "    </tr>\n",
              "  </tbody>\n",
              "</table>\n"
            ]
          },
          "metadata": {},
          "execution_count": 33
        }
      ]
    },
    {
      "cell_type": "markdown",
      "source": [
        "### (4) Discuss which models you tried and which models performed better and point out relevant hyper-parameter values for successful models.\n"
      ],
      "metadata": {
        "id": "t5A9smYkx4iM"
      }
    },
    {
      "cell_type": "markdown",
      "source": [
        "I had best success with the Embedding layer and LSTM models, with the increased epoch count."
      ],
      "metadata": {
        "id": "3jd4ox0Gx73c"
      }
    }
  ]
}