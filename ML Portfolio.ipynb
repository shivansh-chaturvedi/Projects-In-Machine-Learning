{
  "nbformat": 4,
  "nbformat_minor": 0,
  "metadata": {
    "colab": {
      "provenance": []
    },
    "kernelspec": {
      "name": "python3",
      "display_name": "Python 3"
    },
    "language_info": {
      "name": "python"
    }
  },
  "cells": [
    {
      "cell_type": "markdown",
      "source": [
        "# Machine Learning Projects Portfolio"
      ],
      "metadata": {
        "id": "JOXREISYuFt1"
      }
    },
    {
      "cell_type": "markdown",
      "source": [
        "Shivansh Chaturvedi\n",
        "\n",
        "Columbia University\n",
        "\n",
        "[Link to my Github repo](https://github.com/shivansh-chaturvedi/Projects-In-Machine-Learning)"
      ],
      "metadata": {
        "id": "1zTI59LBueOq"
      }
    },
    {
      "cell_type": "markdown",
      "source": [
        "This notebook takes a look at some of my projects in machine learning, summarizing the data and the work on each of them. You can also find links to each notebook here!\n",
        "\n",
        "Reach out to me at sc4782@columbia.edu with any questions."
      ],
      "metadata": {
        "id": "P_uPszYNunUe"
      }
    },
    {
      "cell_type": "markdown",
      "source": [
        "### Contents\n",
        "\n",
        "1. [Predicting World Happiness](#project-1)\n",
        "2. [Classifying COVID X-ray Image Data](#project-2)\n",
        "3. [Sentiment Analysis of Movie Reviews](#project-3)"
      ],
      "metadata": {
        "id": "v4uGz9Ehu5Gr"
      }
    },
    {
      "cell_type": "markdown",
      "source": [
        "### Predicting World Happiness <a class=\"anchor\" id=\"project-1\"></a>"
      ],
      "metadata": {
        "id": "PxvhR9jCvqhc"
      }
    },
    {
      "cell_type": "markdown",
      "source": [
        "**Summary**\n",
        "\n",
        "This project looks to model and predict the \"happiness levels\" for countries using characteristics such as GDP per capita, social support, healthy life expectancy, % of population below the poverty line, life expectancy, etc."
      ],
      "metadata": {
        "id": "k_JvbGvRvwJD"
      }
    },
    {
      "cell_type": "markdown",
      "source": [
        "**Data and Methods**\n",
        "\n",
        "This project leveraged the UN World Happiness Report. The 156 countries were train-test split and models were trained and run.\n",
        "\n",
        "I used RandomForestClassifier, GradientBoostingClassifier and KNearestNeighborsClassifier methods, with RandomForestClassifier giving me the best accuracy and f1 scores."
      ],
      "metadata": {
        "id": "BlAjR_xBwCQj"
      }
    },
    {
      "cell_type": "markdown",
      "source": [
        "[Link to this project](https://github.com/shivansh-chaturvedi/Projects-In-Machine-Learning/tree/main/Predicting%20World%20Happiness)"
      ],
      "metadata": {
        "id": "-cw_9xGB0N8Q"
      }
    },
    {
      "cell_type": "markdown",
      "source": [
        "### Classifying COVID X-Ray Image Data <a class=\"anchor\" id=\"project-2\"></a>\n"
      ],
      "metadata": {
        "id": "t9eihoqu0fpS"
      }
    },
    {
      "cell_type": "markdown",
      "source": [
        "**Summary**\n",
        "\n",
        "This project uses X-ray image data of COVID-19 patients (as well as those of healthy patients and of those with pneumonia) to train a model that can better identify patients whose X-rays may suggest COVID pneumonia. A project like this could assist radiologists in their work."
      ],
      "metadata": {
        "id": "p2m3-2rP0pJL"
      }
    },
    {
      "cell_type": "markdown",
      "source": [
        "**Data and Methods**\n",
        "\n",
        "The features are chest X-Ray images of patients and labels are 'Covid', 'Normal', and 'Pneumonia', corresponding to whether a patient has been diagnosed with either Covid or Pneumonia. The first 1345 images in the dataset were used in each category.\n",
        "\n",
        "I used CNN, Keras NN Models and Transfer Learning models to experiment with methods that could provide high accuracy on the test data, with the Keras Neural Network providing best results."
      ],
      "metadata": {
        "id": "UbI69K1509g-"
      }
    },
    {
      "cell_type": "markdown",
      "source": [
        "[Link to this project](https://github.com/shivansh-chaturvedi/Projects-In-Machine-Learning/tree/main/Classifying%20COVID%20X-Ray%20Images)"
      ],
      "metadata": {
        "id": "4ssoYZgO1VS2"
      }
    },
    {
      "cell_type": "markdown",
      "source": [
        "### Sentiment Analysis of Movie Reviews <a class=\"anchor\" id=\"project-1\"></a>"
      ],
      "metadata": {
        "id": "ytYr6_o71cVX"
      }
    },
    {
      "cell_type": "markdown",
      "source": [
        "**Summary**\n",
        "\n",
        "This project uses text analysis deep learning methods to determine the \"sentiment\" of a movie review: whether the review says a movie is generally good or bad. Analysis of this data could be helpful for publications seeking to describe the reception of a movie, studios looking to asses the performance of their investments, and other critics to gauge how their peers reviewed the work."
      ],
      "metadata": {
        "id": "bnTLub2x1h1R"
      }
    },
    {
      "cell_type": "markdown",
      "source": [
        "**Data and Methods**\n",
        "\n",
        "The project uses the Stanford SST Sentiment Dataset to parse through text features in reviews to assign words and features as positive or negative. I leveraged Embedding layers, LSTM layers, Conv1d layers and transfer learning with glove embeddings for my models."
      ],
      "metadata": {
        "id": "ZtnboKgL17cL"
      }
    },
    {
      "cell_type": "markdown",
      "source": [
        "[Link to this project](https://github.com/shivansh-chaturvedi/Projects-In-Machine-Learning/tree/main/Sentiment%20Analysis%20of%20Movie%20Reviews)"
      ],
      "metadata": {
        "id": "-QSXVnfY2fws"
      }
    }
  ]
}